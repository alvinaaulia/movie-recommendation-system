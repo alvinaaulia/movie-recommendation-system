{
  "nbformat": 4,
  "nbformat_minor": 0,
  "metadata": {
    "colab": {
      "provenance": [],
      "collapsed_sections": [
        "ufuRikamAK8-",
        "LAJ0iB-kAUtE",
        "CUB5eq0eAZ9A",
        "vkDglN5TAjwg",
        "RLZzB2zjTMsD",
        "0TbiMf1sAex4",
        "5S1W7iIHTGwJ",
        "YjdyBcQFA-RE",
        "FoQBbYErBcvn",
        "4I-EwaNlEgwX",
        "ELuptnbyEki-",
        "oGQYUmkZCWdD",
        "MTzvWHzohOY3"
      ]
    },
    "kernelspec": {
      "name": "python3",
      "display_name": "Python 3"
    },
    "language_info": {
      "name": "python"
    }
  },
  "cells": [
    {
      "cell_type": "markdown",
      "source": [
        "# Data Understanding"
      ],
      "metadata": {
        "id": "flFsEN_k_ySK"
      }
    },
    {
      "cell_type": "markdown",
      "source": [
        "Proses ini dilakukan untuk memahami data yang terdapat pada dataset-dataset yang terdapat pada MovieLens 20M.\n",
        "Dataset MovieLens 20M terdiri dari 6 file utama:\n",
        "- ```movie.csv``` (27278 baris): metadata film\n",
        "- ```rating.csv``` (20000263 baris): interaksi user–film\n",
        "- ```tag.csv``` (465564 baris): tag dari user\n",
        "- ```link.csv```(27278 baris): berisi identifier link di sumber lain\n",
        "- ```genome_scores.csv``` (11709768 baris): nilai relevansi tags\n",
        "- ```genome_tags.csv``` (1128 baris): deskripsi tags\n",
        "\n",
        "Fitur penting:\n",
        "- ```movieId```: ID film unik\n",
        "- ```title```: judul film\n",
        "- ```genres```: genre film (dipisahkan oleh '|')\n",
        "- ```userId```: ID user\n",
        "- ```rating```: nilai rating user (0.5-5.0)\n",
        "- ```tag```: anotasi pendek dari user\n",
        "- ```timestamp```: waktu interaksi dalam format UNIX time (baik di rating maupun tag)\n",
        "\n",
        "Fitur tambahan:\n",
        "- `imdbId` : identifier (kode unik) sumber film di Internet Movie Database ID\n",
        "- `tmdbId` : identifier (kode unik) sumber film di The Movie Database ID\n",
        "- `relevance` : nilai relevansi tag terhadap film\n",
        "- `tagId` : ID unik tag"
      ],
      "metadata": {
        "id": "D7c5cHHkN4A5"
      }
    },
    {
      "cell_type": "code",
      "execution_count": 1,
      "metadata": {
        "colab": {
          "base_uri": "https://localhost:8080/",
          "height": 90
        },
        "id": "1Mr2iNm4_P0Q",
        "outputId": "aa94d005-4e03-4fdf-a609-8eddde5bf5b1"
      },
      "outputs": [
        {
          "output_type": "display_data",
          "data": {
            "text/plain": [
              "<IPython.core.display.HTML object>"
            ],
            "text/html": [
              "\n",
              "     <input type=\"file\" id=\"files-94f50f00-903d-4230-8bc4-266b13d854dc\" name=\"files[]\" multiple disabled\n",
              "        style=\"border:none\" />\n",
              "     <output id=\"result-94f50f00-903d-4230-8bc4-266b13d854dc\">\n",
              "      Upload widget is only available when the cell has been executed in the\n",
              "      current browser session. Please rerun this cell to enable.\n",
              "      </output>\n",
              "      <script>// Copyright 2017 Google LLC\n",
              "//\n",
              "// Licensed under the Apache License, Version 2.0 (the \"License\");\n",
              "// you may not use this file except in compliance with the License.\n",
              "// You may obtain a copy of the License at\n",
              "//\n",
              "//      http://www.apache.org/licenses/LICENSE-2.0\n",
              "//\n",
              "// Unless required by applicable law or agreed to in writing, software\n",
              "// distributed under the License is distributed on an \"AS IS\" BASIS,\n",
              "// WITHOUT WARRANTIES OR CONDITIONS OF ANY KIND, either express or implied.\n",
              "// See the License for the specific language governing permissions and\n",
              "// limitations under the License.\n",
              "\n",
              "/**\n",
              " * @fileoverview Helpers for google.colab Python module.\n",
              " */\n",
              "(function(scope) {\n",
              "function span(text, styleAttributes = {}) {\n",
              "  const element = document.createElement('span');\n",
              "  element.textContent = text;\n",
              "  for (const key of Object.keys(styleAttributes)) {\n",
              "    element.style[key] = styleAttributes[key];\n",
              "  }\n",
              "  return element;\n",
              "}\n",
              "\n",
              "// Max number of bytes which will be uploaded at a time.\n",
              "const MAX_PAYLOAD_SIZE = 100 * 1024;\n",
              "\n",
              "function _uploadFiles(inputId, outputId) {\n",
              "  const steps = uploadFilesStep(inputId, outputId);\n",
              "  const outputElement = document.getElementById(outputId);\n",
              "  // Cache steps on the outputElement to make it available for the next call\n",
              "  // to uploadFilesContinue from Python.\n",
              "  outputElement.steps = steps;\n",
              "\n",
              "  return _uploadFilesContinue(outputId);\n",
              "}\n",
              "\n",
              "// This is roughly an async generator (not supported in the browser yet),\n",
              "// where there are multiple asynchronous steps and the Python side is going\n",
              "// to poll for completion of each step.\n",
              "// This uses a Promise to block the python side on completion of each step,\n",
              "// then passes the result of the previous step as the input to the next step.\n",
              "function _uploadFilesContinue(outputId) {\n",
              "  const outputElement = document.getElementById(outputId);\n",
              "  const steps = outputElement.steps;\n",
              "\n",
              "  const next = steps.next(outputElement.lastPromiseValue);\n",
              "  return Promise.resolve(next.value.promise).then((value) => {\n",
              "    // Cache the last promise value to make it available to the next\n",
              "    // step of the generator.\n",
              "    outputElement.lastPromiseValue = value;\n",
              "    return next.value.response;\n",
              "  });\n",
              "}\n",
              "\n",
              "/**\n",
              " * Generator function which is called between each async step of the upload\n",
              " * process.\n",
              " * @param {string} inputId Element ID of the input file picker element.\n",
              " * @param {string} outputId Element ID of the output display.\n",
              " * @return {!Iterable<!Object>} Iterable of next steps.\n",
              " */\n",
              "function* uploadFilesStep(inputId, outputId) {\n",
              "  const inputElement = document.getElementById(inputId);\n",
              "  inputElement.disabled = false;\n",
              "\n",
              "  const outputElement = document.getElementById(outputId);\n",
              "  outputElement.innerHTML = '';\n",
              "\n",
              "  const pickedPromise = new Promise((resolve) => {\n",
              "    inputElement.addEventListener('change', (e) => {\n",
              "      resolve(e.target.files);\n",
              "    });\n",
              "  });\n",
              "\n",
              "  const cancel = document.createElement('button');\n",
              "  inputElement.parentElement.appendChild(cancel);\n",
              "  cancel.textContent = 'Cancel upload';\n",
              "  const cancelPromise = new Promise((resolve) => {\n",
              "    cancel.onclick = () => {\n",
              "      resolve(null);\n",
              "    };\n",
              "  });\n",
              "\n",
              "  // Wait for the user to pick the files.\n",
              "  const files = yield {\n",
              "    promise: Promise.race([pickedPromise, cancelPromise]),\n",
              "    response: {\n",
              "      action: 'starting',\n",
              "    }\n",
              "  };\n",
              "\n",
              "  cancel.remove();\n",
              "\n",
              "  // Disable the input element since further picks are not allowed.\n",
              "  inputElement.disabled = true;\n",
              "\n",
              "  if (!files) {\n",
              "    return {\n",
              "      response: {\n",
              "        action: 'complete',\n",
              "      }\n",
              "    };\n",
              "  }\n",
              "\n",
              "  for (const file of files) {\n",
              "    const li = document.createElement('li');\n",
              "    li.append(span(file.name, {fontWeight: 'bold'}));\n",
              "    li.append(span(\n",
              "        `(${file.type || 'n/a'}) - ${file.size} bytes, ` +\n",
              "        `last modified: ${\n",
              "            file.lastModifiedDate ? file.lastModifiedDate.toLocaleDateString() :\n",
              "                                    'n/a'} - `));\n",
              "    const percent = span('0% done');\n",
              "    li.appendChild(percent);\n",
              "\n",
              "    outputElement.appendChild(li);\n",
              "\n",
              "    const fileDataPromise = new Promise((resolve) => {\n",
              "      const reader = new FileReader();\n",
              "      reader.onload = (e) => {\n",
              "        resolve(e.target.result);\n",
              "      };\n",
              "      reader.readAsArrayBuffer(file);\n",
              "    });\n",
              "    // Wait for the data to be ready.\n",
              "    let fileData = yield {\n",
              "      promise: fileDataPromise,\n",
              "      response: {\n",
              "        action: 'continue',\n",
              "      }\n",
              "    };\n",
              "\n",
              "    // Use a chunked sending to avoid message size limits. See b/62115660.\n",
              "    let position = 0;\n",
              "    do {\n",
              "      const length = Math.min(fileData.byteLength - position, MAX_PAYLOAD_SIZE);\n",
              "      const chunk = new Uint8Array(fileData, position, length);\n",
              "      position += length;\n",
              "\n",
              "      const base64 = btoa(String.fromCharCode.apply(null, chunk));\n",
              "      yield {\n",
              "        response: {\n",
              "          action: 'append',\n",
              "          file: file.name,\n",
              "          data: base64,\n",
              "        },\n",
              "      };\n",
              "\n",
              "      let percentDone = fileData.byteLength === 0 ?\n",
              "          100 :\n",
              "          Math.round((position / fileData.byteLength) * 100);\n",
              "      percent.textContent = `${percentDone}% done`;\n",
              "\n",
              "    } while (position < fileData.byteLength);\n",
              "  }\n",
              "\n",
              "  // All done.\n",
              "  yield {\n",
              "    response: {\n",
              "      action: 'complete',\n",
              "    }\n",
              "  };\n",
              "}\n",
              "\n",
              "scope.google = scope.google || {};\n",
              "scope.google.colab = scope.google.colab || {};\n",
              "scope.google.colab._files = {\n",
              "  _uploadFiles,\n",
              "  _uploadFilesContinue,\n",
              "};\n",
              "})(self);\n",
              "</script> "
            ]
          },
          "metadata": {}
        },
        {
          "output_type": "stream",
          "name": "stdout",
          "text": [
            "Saving kaggle.json to kaggle.json\n"
          ]
        },
        {
          "output_type": "execute_result",
          "data": {
            "text/plain": [
              "{'kaggle.json': b'{\"username\":\"alvinaaulianisa\",\"key\":\"563f61499ee8701869000c7e54afaccf\"}'}"
            ]
          },
          "metadata": {},
          "execution_count": 1
        }
      ],
      "source": [
        "from google.colab import files\n",
        "files.upload()"
      ]
    },
    {
      "cell_type": "code",
      "source": [
        "!mkdir -p ~/.kaggle\n",
        "!cp kaggle.json ~/.kaggle/\n",
        "!chmod 600 ~/.kaggle/kaggle.json\n",
        "\n",
        "!kaggle datasets download -d grouplens/movielens-20m-dataset\n",
        "!unzip movielens-20m-dataset.zip -d movielens-dataset"
      ],
      "metadata": {
        "colab": {
          "base_uri": "https://localhost:8080/"
        },
        "id": "gvHbUydN_2x1",
        "outputId": "84cc5a14-e98a-4160-c561-bcb9925354fd"
      },
      "execution_count": 2,
      "outputs": [
        {
          "output_type": "stream",
          "name": "stdout",
          "text": [
            "Dataset URL: https://www.kaggle.com/datasets/grouplens/movielens-20m-dataset\n",
            "License(s): unknown\n",
            "Downloading movielens-20m-dataset.zip to /content\n",
            " 57% 111M/195M [00:00<00:00, 1.16GB/s]\n",
            "100% 195M/195M [00:00<00:00, 832MB/s] \n",
            "Archive:  movielens-20m-dataset.zip\n",
            "  inflating: movielens-dataset/genome_scores.csv  \n",
            "  inflating: movielens-dataset/genome_tags.csv  \n",
            "  inflating: movielens-dataset/link.csv  \n",
            "  inflating: movielens-dataset/movie.csv  \n",
            "  inflating: movielens-dataset/rating.csv  \n",
            "  inflating: movielens-dataset/tag.csv  \n"
          ]
        }
      ]
    },
    {
      "cell_type": "code",
      "source": [
        "import pandas as pd\n",
        "import numpy as np\n",
        "import seaborn as sns\n",
        "from sklearn.feature_extraction.text import TfidfVectorizer\n",
        "from sklearn.metrics.pairwise import cosine_similarity\n",
        "import tensorflow as tf\n",
        "from tensorflow.keras import layers\n",
        "import matplotlib.pyplot as plt"
      ],
      "metadata": {
        "id": "26qmzAxcBHMq"
      },
      "execution_count": 3,
      "outputs": []
    },
    {
      "cell_type": "code",
      "source": [
        "tags = pd.read_csv('movielens-dataset/tag.csv')\n",
        "rating = pd.read_csv('movielens-dataset/rating.csv')\n",
        "movie = pd.read_csv('movielens-dataset/movie.csv')\n",
        "link = pd.read_csv('movielens-dataset/link.csv')\n",
        "genome_scores = pd.read_csv('movielens-dataset/genome_scores.csv')\n",
        "genome_tags = pd.read_csv('movielens-dataset/genome_tags.csv')"
      ],
      "metadata": {
        "id": "R7zaxZ0sACZS"
      },
      "execution_count": 4,
      "outputs": []
    },
    {
      "cell_type": "code",
      "source": [
        "print('Jumlah baris tags: ', len(tags.userId))\n",
        "print('Jumlah baris rating: ', len(rating.userId))\n",
        "print('Jumlah baris movie: ', len(movie.movieId))\n",
        "print('Jumlah baris link: ', len(link.movieId))\n",
        "print('Jumlah baris genome_scores: ', len(genome_scores.movieId))\n",
        "print('Jumlah baris genome_tags: ', len(genome_tags.tagId))"
      ],
      "metadata": {
        "colab": {
          "base_uri": "https://localhost:8080/"
        },
        "id": "AcCmgjGCi7Em",
        "outputId": "ef50c6e7-37f1-43fd-e5a1-fa5a59b1d95a"
      },
      "execution_count": 5,
      "outputs": [
        {
          "output_type": "stream",
          "name": "stdout",
          "text": [
            "Jumlah baris tags:  465564\n",
            "Jumlah baris rating:  20000263\n",
            "Jumlah baris movie:  27278\n",
            "Jumlah baris link:  27278\n",
            "Jumlah baris genome_scores:  11709768\n",
            "Jumlah baris genome_tags:  1128\n"
          ]
        }
      ]
    },
    {
      "cell_type": "code",
      "source": [
        "print('Jumlah data unik tags: ', len(tags.userId.unique()))\n",
        "print('Jumlah data unik rating: ', len(rating.userId.unique()))\n",
        "print('Jumlah data unik movie: ', len(movie.movieId.unique()))\n",
        "print('Jumlah data unik link: ', len(link.movieId.unique()))\n",
        "print('Jumlah data unik genome_scores: ', len(genome_scores.movieId.unique()))\n",
        "print('Jumlah data unik genome_tags: ', len(genome_tags.tagId.unique()))"
      ],
      "metadata": {
        "colab": {
          "base_uri": "https://localhost:8080/"
        },
        "id": "qdkWLki7TYw3",
        "outputId": "81859926-aae4-47ef-9624-0530337a37fa"
      },
      "execution_count": 6,
      "outputs": [
        {
          "output_type": "stream",
          "name": "stdout",
          "text": [
            "Jumlah data unik tags:  7801\n",
            "Jumlah data unik rating:  138493\n",
            "Jumlah data unik movie:  27278\n",
            "Jumlah data unik link:  27278\n",
            "Jumlah data unik genome_scores:  10381\n",
            "Jumlah data unik genome_tags:  1128\n"
          ]
        }
      ]
    },
    {
      "cell_type": "markdown",
      "source": [
        "**Insight:**\n",
        "- Berdasarkan hasil di atas terdapat 7801 data unik pada DataFrame tags dengan total baris 465564, 138493 data unik pada rating dengan total baris 20000263, 27278 data unik pada DataFrame movie dengan total baris 27278, 27278 data unik pada DataFrame link dengan total baris 27278, 10381 data unik pada DataFrame genome_scores dengan total baris 11709768, dan 1128 data unik pada DataFrame genome_tags dengan total baris 1128."
      ],
      "metadata": {
        "id": "ORDeFFnydGmM"
      }
    },
    {
      "cell_type": "markdown",
      "source": [
        "# Univariate Exploratory Data Analysis"
      ],
      "metadata": {
        "id": "ufuRikamAK8-"
      }
    },
    {
      "cell_type": "markdown",
      "source": [
        "- Pada tahap ini dilakukan pemahaman tentang data yang akan diolah, manakah dataframe yang cocok untuk digunakan pada Content-Based Filtering dan Collaborative Filtering.\n",
        "- Relevansi terhadap kedua teknik filtering. Pada **Content-Based Filtering** hanya membutuhkan data deskripsi item (film) seperti genre dan tag, dan itu sudah cukup dengan movie.csv + tag.csv:\n",
        "  * **movie.csv**: ```movieId```, ```title```, ```genres```.\n",
        "  * **tag.csv**: ```userId```, ```movieId```, ```tag```, ```timestamp```.\n",
        "\n",
        "  Dan untuk **Collaborative Filtering** hanya membutuhkan data user, item, rating dan itu sudah cukup dengan menggunakan rating.csv yang berisi features ```userId```, ```movieId```, ```rating```, ```timestamp```.\n",
        "- Tiga dataset (```movie.csv```, ```tag.csv```, dan ```rating.csv```) sudah cukup dan optimal untuk membangun sistem rekomendasi dengan dua pendekatan utama (content-based dan collaborative). Dataset lainnya opsional untuk peningkatan performa dan fitur lanjutan."
      ],
      "metadata": {
        "id": "68-shSvQTu2m"
      }
    },
    {
      "cell_type": "markdown",
      "source": [
        "## Movie"
      ],
      "metadata": {
        "id": "LAJ0iB-kAUtE"
      }
    },
    {
      "cell_type": "code",
      "source": [
        "movie.info()"
      ],
      "metadata": {
        "colab": {
          "base_uri": "https://localhost:8080/"
        },
        "id": "5cnS7Hv_TRmO",
        "outputId": "528f821e-5958-4109-b11e-e547bdd64878"
      },
      "execution_count": null,
      "outputs": [
        {
          "output_type": "stream",
          "name": "stdout",
          "text": [
            "<class 'pandas.core.frame.DataFrame'>\n",
            "RangeIndex: 27278 entries, 0 to 27277\n",
            "Data columns (total 3 columns):\n",
            " #   Column   Non-Null Count  Dtype \n",
            "---  ------   --------------  ----- \n",
            " 0   movieId  27278 non-null  int64 \n",
            " 1   title    27278 non-null  object\n",
            " 2   genres   27278 non-null  object\n",
            "dtypes: int64(1), object(2)\n",
            "memory usage: 639.5+ KB\n"
          ]
        }
      ]
    },
    {
      "cell_type": "markdown",
      "source": [
        "- Berdasarkan data di atas, dataframe movie memiliki 27278 data yang terdiri dari 3 features yaitu movieId, title, dan genres."
      ],
      "metadata": {
        "id": "D9hg2ODmhpyd"
      }
    },
    {
      "cell_type": "code",
      "source": [
        "print('Banyak data movie: ', len(movie.movieId.unique()))\n",
        "print('Banyak data judul unik: ', len(movie.title.unique()))\n",
        "print('Banyak data genres: ', len(movie.genres.unique()))"
      ],
      "metadata": {
        "colab": {
          "base_uri": "https://localhost:8080/"
        },
        "id": "vSSY-MgHTZnE",
        "outputId": "162ba6ef-a44d-4ac0-d0e8-4f901f43226e"
      },
      "execution_count": null,
      "outputs": [
        {
          "output_type": "stream",
          "name": "stdout",
          "text": [
            "Banyak data movie:  27278\n",
            "Banyak data judul unik:  27262\n",
            "Banyak data genres:  1342\n"
          ]
        }
      ]
    },
    {
      "cell_type": "markdown",
      "source": [
        "- Berdasarkan hasil di atas, pada dataframe movie terdapat 27278 data movie dengan 272762 judul unik dan 1342 genres."
      ],
      "metadata": {
        "id": "aFT4-30_h3Ds"
      }
    },
    {
      "cell_type": "code",
      "source": [
        "print('Distribusi: ', movie['genres'].value_counts())"
      ],
      "metadata": {
        "colab": {
          "base_uri": "https://localhost:8080/"
        },
        "id": "Di63FuN9W7r3",
        "outputId": "e588e646-839a-4789-fb12-0ce5605aaf3a"
      },
      "execution_count": null,
      "outputs": [
        {
          "output_type": "stream",
          "name": "stdout",
          "text": [
            "Distribusi:  genres\n",
            "Drama                                      4520\n",
            "Comedy                                     2294\n",
            "Documentary                                1942\n",
            "Comedy|Drama                               1264\n",
            "Drama|Romance                              1075\n",
            "                                           ... \n",
            "Action|Mystery|Romance|Western                1\n",
            "Adventure|Children|Comedy|Drama|Fantasy       1\n",
            "Animation|Comedy|Horror                       1\n",
            "Adventure|Crime|Mystery|Romance               1\n",
            "Adventure|Children|Documentary|Drama          1\n",
            "Name: count, Length: 1342, dtype: int64\n"
          ]
        }
      ]
    },
    {
      "cell_type": "markdown",
      "source": [
        "- Hasil distribusi di atas menunjukkan bahwa Drama adalah genre dengan total movie paling banyak yaitu 4520."
      ],
      "metadata": {
        "id": "o46Ye2SniHo5"
      }
    },
    {
      "cell_type": "markdown",
      "source": [
        "## Tags"
      ],
      "metadata": {
        "id": "CUB5eq0eAZ9A"
      }
    },
    {
      "cell_type": "code",
      "source": [
        "tags.info()"
      ],
      "metadata": {
        "colab": {
          "base_uri": "https://localhost:8080/"
        },
        "id": "WKuC-QZgT7tD",
        "outputId": "87c821ec-0c44-4dea-b1aa-6866ba31f0b5"
      },
      "execution_count": null,
      "outputs": [
        {
          "output_type": "stream",
          "name": "stdout",
          "text": [
            "<class 'pandas.core.frame.DataFrame'>\n",
            "RangeIndex: 465564 entries, 0 to 465563\n",
            "Data columns (total 4 columns):\n",
            " #   Column     Non-Null Count   Dtype \n",
            "---  ------     --------------   ----- \n",
            " 0   userId     465564 non-null  int64 \n",
            " 1   movieId    465564 non-null  int64 \n",
            " 2   tag        465548 non-null  object\n",
            " 3   timestamp  465564 non-null  object\n",
            "dtypes: int64(2), object(2)\n",
            "memory usage: 14.2+ MB\n"
          ]
        }
      ]
    },
    {
      "cell_type": "markdown",
      "source": [
        "- Berdasarkan data di atas, terdapat 465564 total data dengan 4 features yaitu userId, movieId, tag, dan timestamp."
      ],
      "metadata": {
        "id": "5t98OpbJiY5U"
      }
    },
    {
      "cell_type": "code",
      "source": [
        "print('Banyak data tags:', len(tags.tag.unique()))\n",
        "print('Banyak data user pemberi tags: ', len(tags.userId.unique()))\n",
        "print('Banyak data movie yang diberi tags: ', len(tags.movieId.unique()))"
      ],
      "metadata": {
        "colab": {
          "base_uri": "https://localhost:8080/"
        },
        "id": "oKreWzf_T9nJ",
        "outputId": "43612847-701c-4115-dfd6-7b5d54110b08"
      },
      "execution_count": null,
      "outputs": [
        {
          "output_type": "stream",
          "name": "stdout",
          "text": [
            "Banyak data tags: 38644\n",
            "Banyak data user pemberi tags:  7801\n",
            "Banyak data movie yang diberi tags:  19545\n"
          ]
        }
      ]
    },
    {
      "cell_type": "markdown",
      "source": [
        "- Berdasarkan hasil di atas terdapat 38644 data unik pada tags, 7801 data user yang memberikan tags, dan 19545 data movie yang diberi tags."
      ],
      "metadata": {
        "id": "dLi89IOUkOHc"
      }
    },
    {
      "cell_type": "code",
      "source": [
        "print('Distribusi: ', tags['tag'].value_counts())"
      ],
      "metadata": {
        "colab": {
          "base_uri": "https://localhost:8080/"
        },
        "id": "XmyobSJxWKnU",
        "outputId": "f071fd94-2b8e-4bf9-a2b3-1542900600f9"
      },
      "execution_count": null,
      "outputs": [
        {
          "output_type": "stream",
          "name": "stdout",
          "text": [
            "Distribusi:  tag\n",
            "sci-fi                 3384\n",
            "based on a book        3281\n",
            "atmospheric            2917\n",
            "comedy                 2779\n",
            "action                 2657\n",
            "                       ... \n",
            "Diamond Dallas Page       1\n",
            "I'm Devon Butler!         1\n",
            "No arguement              1\n",
            "Really Bad                1\n",
            "Botox                     1\n",
            "Name: count, Length: 38643, dtype: int64\n"
          ]
        }
      ]
    },
    {
      "cell_type": "markdown",
      "source": [
        "- Berdasarkan hasil distribusi di atas diketahui bahwa sci-fi adalah tag dengan movie terbanyak yaitu sejumlah 3384, yang disusul oleh based on a book dengan total movie 3281, dan lain-lain."
      ],
      "metadata": {
        "id": "JRByAlDdkdIA"
      }
    },
    {
      "cell_type": "markdown",
      "source": [
        "## Rating"
      ],
      "metadata": {
        "id": "vkDglN5TAjwg"
      }
    },
    {
      "cell_type": "code",
      "source": [
        "rating.info()"
      ],
      "metadata": {
        "colab": {
          "base_uri": "https://localhost:8080/"
        },
        "id": "6dB1MistUZl-",
        "outputId": "a6adc46c-b0af-4e47-d737-bf0609c5910e"
      },
      "execution_count": null,
      "outputs": [
        {
          "output_type": "stream",
          "name": "stdout",
          "text": [
            "<class 'pandas.core.frame.DataFrame'>\n",
            "RangeIndex: 20000263 entries, 0 to 20000262\n",
            "Data columns (total 4 columns):\n",
            " #   Column     Dtype  \n",
            "---  ------     -----  \n",
            " 0   userId     int64  \n",
            " 1   movieId    int64  \n",
            " 2   rating     float64\n",
            " 3   timestamp  object \n",
            "dtypes: float64(1), int64(2), object(1)\n",
            "memory usage: 610.4+ MB\n"
          ]
        }
      ]
    },
    {
      "cell_type": "markdown",
      "source": [
        "- Berdasarkan hasil di atas diketahui bahwa total data pada dataframe rating adalah 20000263 dengan 4 features yaitu userId, movieId, rating, dan timestamp."
      ],
      "metadata": {
        "id": "VE0X8KJskwDJ"
      }
    },
    {
      "cell_type": "code",
      "source": [
        "print('Banyak data user pemberi rating: ', len(rating.userId.unique()))\n",
        "print('Banyak data movie yang diberi rating: ', len(rating.movieId.unique()))"
      ],
      "metadata": {
        "colab": {
          "base_uri": "https://localhost:8080/"
        },
        "id": "jUPSD-HSVa0S",
        "outputId": "5faf8637-6327-4bed-9a22-99132fd30f5c"
      },
      "execution_count": null,
      "outputs": [
        {
          "output_type": "stream",
          "name": "stdout",
          "text": [
            "Banyak data user pemberi rating:  138493\n",
            "Banyak data movie yang diberi rating:  26744\n"
          ]
        }
      ]
    },
    {
      "cell_type": "markdown",
      "source": [
        "- Berdasarkan hasil di atas ketahui bahwa terdapat 138493 user yang telah memberi rating pada movie dan terdapat 26744 data movie yang telah diberikan rating."
      ],
      "metadata": {
        "id": "MHLKnqRIk-jw"
      }
    },
    {
      "cell_type": "code",
      "source": [
        "print('Distribusi: ', rating['rating'].value_counts().head(10))"
      ],
      "metadata": {
        "colab": {
          "base_uri": "https://localhost:8080/"
        },
        "id": "1SbrPtd1VuiT",
        "outputId": "2501bf32-6ffd-4fae-dedb-6c9b9b20f5d3"
      },
      "execution_count": null,
      "outputs": [
        {
          "output_type": "stream",
          "name": "stdout",
          "text": [
            "Distribusi:  rating\n",
            "4.0    5561926\n",
            "3.0    4291193\n",
            "5.0    2898660\n",
            "3.5    2200156\n",
            "4.5    1534824\n",
            "2.0    1430997\n",
            "2.5     883398\n",
            "1.0     680732\n",
            "1.5     279252\n",
            "0.5     239125\n",
            "Name: count, dtype: int64\n"
          ]
        }
      ]
    },
    {
      "cell_type": "markdown",
      "source": [
        "- Berdasarkan hasil distribusi di atas dapat diketahui bahwa sebagian besar user memberikan rating sebesar 4.0/5 dengan total yang telah memberikan rating 4.0 adalah 5561926. Di susul dengan rating 3.0/5 dengan banyak user 4291193, dan rating tertinggi yaitu 5.0 diberikan oleh sebanyak 2898660 user."
      ],
      "metadata": {
        "id": "6Zs5jFKXlMEx"
      }
    },
    {
      "cell_type": "markdown",
      "source": [
        "## Link"
      ],
      "metadata": {
        "id": "RLZzB2zjTMsD"
      }
    },
    {
      "cell_type": "code",
      "source": [
        "link.info()"
      ],
      "metadata": {
        "colab": {
          "base_uri": "https://localhost:8080/"
        },
        "id": "ktCjsP1WXFU4",
        "outputId": "8db5d2b9-d20f-4780-e2a2-12b218f1b7d1"
      },
      "execution_count": null,
      "outputs": [
        {
          "output_type": "stream",
          "name": "stdout",
          "text": [
            "<class 'pandas.core.frame.DataFrame'>\n",
            "RangeIndex: 27278 entries, 0 to 27277\n",
            "Data columns (total 3 columns):\n",
            " #   Column   Non-Null Count  Dtype  \n",
            "---  ------   --------------  -----  \n",
            " 0   movieId  27278 non-null  int64  \n",
            " 1   imdbId   27278 non-null  int64  \n",
            " 2   tmdbId   27026 non-null  float64\n",
            "dtypes: float64(1), int64(2)\n",
            "memory usage: 639.5 KB\n"
          ]
        }
      ]
    },
    {
      "cell_type": "markdown",
      "source": [
        "- Berdasarkan hasil di atas terdapat 27278 total data yang terdapat pada dataframe link dengan 3 features yang terdiri dari movieId, imdbId, dan terakhir dengan jumlah data yang berbeda yaitu sebanyak 27026 adalah tmdbId."
      ],
      "metadata": {
        "id": "g8Xb3-PMluP9"
      }
    },
    {
      "cell_type": "code",
      "source": [
        "print('Banyak data ID unik movie di IMD: ', len(link.imdbId.unique()))\n",
        "print('Banyak data ID unik movie di TMDB: ', len(link.tmdbId.unique()))"
      ],
      "metadata": {
        "colab": {
          "base_uri": "https://localhost:8080/"
        },
        "id": "lgsCYQOxXIcv",
        "outputId": "e5b58ec8-fc72-48fd-e45f-0430e30afdfb"
      },
      "execution_count": null,
      "outputs": [
        {
          "output_type": "stream",
          "name": "stdout",
          "text": [
            "Banyak data ID unik movie di IMD:  27278\n",
            "Banyak data ID unik movie di TMDB:  27009\n"
          ]
        }
      ]
    },
    {
      "cell_type": "markdown",
      "source": [
        "- Berdasarkan hasil di atas terdapat total 27278 data unik yang terdapat pada feature imdbId dan 27009 data unik pada feature tmdbId."
      ],
      "metadata": {
        "id": "vc8ZoNpdmAP8"
      }
    },
    {
      "cell_type": "markdown",
      "source": [
        "## Genome Scores"
      ],
      "metadata": {
        "id": "0TbiMf1sAex4"
      }
    },
    {
      "cell_type": "code",
      "source": [
        "genome_scores.info()"
      ],
      "metadata": {
        "colab": {
          "base_uri": "https://localhost:8080/"
        },
        "id": "OROaKg1KX45o",
        "outputId": "c3689297-ea36-4bbe-d7ac-67abb04ce973"
      },
      "execution_count": null,
      "outputs": [
        {
          "output_type": "stream",
          "name": "stdout",
          "text": [
            "<class 'pandas.core.frame.DataFrame'>\n",
            "RangeIndex: 11709768 entries, 0 to 11709767\n",
            "Data columns (total 3 columns):\n",
            " #   Column     Dtype  \n",
            "---  ------     -----  \n",
            " 0   movieId    int64  \n",
            " 1   tagId      int64  \n",
            " 2   relevance  float64\n",
            "dtypes: float64(1), int64(2)\n",
            "memory usage: 268.0 MB\n"
          ]
        }
      ]
    },
    {
      "cell_type": "markdown",
      "source": [
        "- Berdasarkan data di atas terdapat total sejumlah 11709768 data entries pada dataframe genome_scores yang terdiri dari 3 features yaitu movieId, tagId, dan feature relevance."
      ],
      "metadata": {
        "id": "7dXIyo2FmNVY"
      }
    },
    {
      "cell_type": "code",
      "source": [
        "print('Distribusi 10 nilai relevansi paling banyak: ', genome_scores['relevance'].value_counts().head(10))"
      ],
      "metadata": {
        "colab": {
          "base_uri": "https://localhost:8080/"
        },
        "id": "mq82xTBvYWxK",
        "outputId": "04c2de87-166b-4f45-f518-2daa5d1bbe1c"
      },
      "execution_count": null,
      "outputs": [
        {
          "output_type": "stream",
          "name": "stdout",
          "text": [
            "Distribusi 10 nilai relevansi paling banyak:  relevance\n",
            "0.01400    37940\n",
            "0.01275    37920\n",
            "0.01325    37823\n",
            "0.01250    37820\n",
            "0.01225    37812\n",
            "0.01450    37798\n",
            "0.01300    37764\n",
            "0.01125    37755\n",
            "0.01425    37737\n",
            "0.01175    37624\n",
            "Name: count, dtype: int64\n"
          ]
        }
      ]
    },
    {
      "cell_type": "markdown",
      "source": [
        "- Berdasarkan hasil distribusi di atas nilai relevansi yang paling banyak dimiliki oleh movie adalah sebesar 0.01400 yang mana ini berarti sebanyak 37940 tags memiliki nilai relevansi yang cukup baik daripada yang lainnya (biasanya semakin menyentuh angka 1 maka relevansi semakin baik). Dari hasil tersebut terlihat bahwa nilai relevansi yang paling tinggi adalah sebesar 0.0450 dengan nilai 0.01125 sebagai nilai relevansi yang paling kecil."
      ],
      "metadata": {
        "id": "AcAwZ0sPmcA7"
      }
    },
    {
      "cell_type": "markdown",
      "source": [
        "## Genome Tags"
      ],
      "metadata": {
        "id": "5S1W7iIHTGwJ"
      }
    },
    {
      "cell_type": "code",
      "source": [
        "genome_tags.info()"
      ],
      "metadata": {
        "colab": {
          "base_uri": "https://localhost:8080/"
        },
        "id": "aUf4UsbPZDKU",
        "outputId": "e17973e1-cfb1-458f-ad25-d3e2bd0807f8"
      },
      "execution_count": null,
      "outputs": [
        {
          "output_type": "stream",
          "name": "stdout",
          "text": [
            "<class 'pandas.core.frame.DataFrame'>\n",
            "RangeIndex: 1128 entries, 0 to 1127\n",
            "Data columns (total 2 columns):\n",
            " #   Column  Non-Null Count  Dtype \n",
            "---  ------  --------------  ----- \n",
            " 0   tagId   1128 non-null   int64 \n",
            " 1   tag     1128 non-null   object\n",
            "dtypes: int64(1), object(1)\n",
            "memory usage: 17.8+ KB\n"
          ]
        }
      ]
    },
    {
      "cell_type": "markdown",
      "source": [
        "- Berdasarkan hasil di atas diketahui bahwa terdapat 1128 total baris yang ada pada dataframe genome_tags dengan 2 features yaitu tagId dan tag."
      ],
      "metadata": {
        "id": "FOAVt_IWnhDg"
      }
    },
    {
      "cell_type": "code",
      "source": [
        "genome_tags['tag'].head(10)"
      ],
      "metadata": {
        "colab": {
          "base_uri": "https://localhost:8080/",
          "height": 398
        },
        "id": "-UhugXRkZJVz",
        "outputId": "c86a7ad0-b65a-44c9-f23b-766d882248a1"
      },
      "execution_count": null,
      "outputs": [
        {
          "output_type": "execute_result",
          "data": {
            "text/plain": [
              "0             007\n",
              "1    007 (series)\n",
              "2    18th century\n",
              "3           1920s\n",
              "4           1930s\n",
              "5           1950s\n",
              "6           1960s\n",
              "7           1970s\n",
              "8           1980s\n",
              "9    19th century\n",
              "Name: tag, dtype: object"
            ],
            "text/html": [
              "<div>\n",
              "<style scoped>\n",
              "    .dataframe tbody tr th:only-of-type {\n",
              "        vertical-align: middle;\n",
              "    }\n",
              "\n",
              "    .dataframe tbody tr th {\n",
              "        vertical-align: top;\n",
              "    }\n",
              "\n",
              "    .dataframe thead th {\n",
              "        text-align: right;\n",
              "    }\n",
              "</style>\n",
              "<table border=\"1\" class=\"dataframe\">\n",
              "  <thead>\n",
              "    <tr style=\"text-align: right;\">\n",
              "      <th></th>\n",
              "      <th>tag</th>\n",
              "    </tr>\n",
              "  </thead>\n",
              "  <tbody>\n",
              "    <tr>\n",
              "      <th>0</th>\n",
              "      <td>007</td>\n",
              "    </tr>\n",
              "    <tr>\n",
              "      <th>1</th>\n",
              "      <td>007 (series)</td>\n",
              "    </tr>\n",
              "    <tr>\n",
              "      <th>2</th>\n",
              "      <td>18th century</td>\n",
              "    </tr>\n",
              "    <tr>\n",
              "      <th>3</th>\n",
              "      <td>1920s</td>\n",
              "    </tr>\n",
              "    <tr>\n",
              "      <th>4</th>\n",
              "      <td>1930s</td>\n",
              "    </tr>\n",
              "    <tr>\n",
              "      <th>5</th>\n",
              "      <td>1950s</td>\n",
              "    </tr>\n",
              "    <tr>\n",
              "      <th>6</th>\n",
              "      <td>1960s</td>\n",
              "    </tr>\n",
              "    <tr>\n",
              "      <th>7</th>\n",
              "      <td>1970s</td>\n",
              "    </tr>\n",
              "    <tr>\n",
              "      <th>8</th>\n",
              "      <td>1980s</td>\n",
              "    </tr>\n",
              "    <tr>\n",
              "      <th>9</th>\n",
              "      <td>19th century</td>\n",
              "    </tr>\n",
              "  </tbody>\n",
              "</table>\n",
              "</div><br><label><b>dtype:</b> object</label>"
            ]
          },
          "metadata": {},
          "execution_count": 67
        }
      ]
    },
    {
      "cell_type": "markdown",
      "source": [
        "# Data Preparation"
      ],
      "metadata": {
        "id": "FoQBbYErBcvn"
      }
    },
    {
      "cell_type": "markdown",
      "source": [
        "Tahap ini dilakukan untuk menyiapkan data seperti penanganan missing value, duplikasi, penggabungan feature yang diperlukan, hingga split data train dan validation sebelum digunakan dalam Content-Based Filtering dan Collaborative Filtering agar hasil rekomendasi yang diberikan dapat efektif."
      ],
      "metadata": {
        "id": "kEg-vyfjrO9Q"
      }
    },
    {
      "cell_type": "markdown",
      "source": [
        "## Mengatasi Missing Value"
      ],
      "metadata": {
        "id": "QTVUqmqOBf5y"
      }
    },
    {
      "cell_type": "markdown",
      "source": [
        "Proses ini dilakukan untuk menghilangkan nilai yang hilang yang akan berpengaruh buruk pada hasil rekomendasi pada CBF maupun Collaborative Filtering."
      ],
      "metadata": {
        "id": "mdALQtcYobZ2"
      }
    },
    {
      "cell_type": "markdown",
      "source": [
        "### tags"
      ],
      "metadata": {
        "id": "4I-EwaNlEgwX"
      }
    },
    {
      "cell_type": "code",
      "source": [
        "tags.isna().sum()"
      ],
      "metadata": {
        "colab": {
          "base_uri": "https://localhost:8080/",
          "height": 0
        },
        "id": "gyFWJKan5Q6X",
        "outputId": "ec08fd86-1587-408a-ef53-eb94b102843a"
      },
      "execution_count": 7,
      "outputs": [
        {
          "output_type": "execute_result",
          "data": {
            "text/plain": [
              "userId        0\n",
              "movieId       0\n",
              "tag          16\n",
              "timestamp     0\n",
              "dtype: int64"
            ],
            "text/html": [
              "<div>\n",
              "<style scoped>\n",
              "    .dataframe tbody tr th:only-of-type {\n",
              "        vertical-align: middle;\n",
              "    }\n",
              "\n",
              "    .dataframe tbody tr th {\n",
              "        vertical-align: top;\n",
              "    }\n",
              "\n",
              "    .dataframe thead th {\n",
              "        text-align: right;\n",
              "    }\n",
              "</style>\n",
              "<table border=\"1\" class=\"dataframe\">\n",
              "  <thead>\n",
              "    <tr style=\"text-align: right;\">\n",
              "      <th></th>\n",
              "      <th>0</th>\n",
              "    </tr>\n",
              "  </thead>\n",
              "  <tbody>\n",
              "    <tr>\n",
              "      <th>userId</th>\n",
              "      <td>0</td>\n",
              "    </tr>\n",
              "    <tr>\n",
              "      <th>movieId</th>\n",
              "      <td>0</td>\n",
              "    </tr>\n",
              "    <tr>\n",
              "      <th>tag</th>\n",
              "      <td>16</td>\n",
              "    </tr>\n",
              "    <tr>\n",
              "      <th>timestamp</th>\n",
              "      <td>0</td>\n",
              "    </tr>\n",
              "  </tbody>\n",
              "</table>\n",
              "</div><br><label><b>dtype:</b> int64</label>"
            ]
          },
          "metadata": {},
          "execution_count": 7
        }
      ]
    },
    {
      "cell_type": "markdown",
      "source": [
        "**Insight:**\n",
        "- Terdapat sebanyak 16 data yang bernilai NaN atau null, dan karena data null ini terbilang masih sangat sedikit dibandingkan dengan total data keseluruhan maka akan lebih baik jika nilai NaN itu dihapus."
      ],
      "metadata": {
        "id": "aEFz7ihQHmRc"
      }
    },
    {
      "cell_type": "code",
      "source": [
        "tags.dropna(subset=['tag'], inplace=True)"
      ],
      "metadata": {
        "id": "PfszZAKFB234"
      },
      "execution_count": 8,
      "outputs": []
    },
    {
      "cell_type": "code",
      "source": [
        "tags.isna().sum()"
      ],
      "metadata": {
        "colab": {
          "base_uri": "https://localhost:8080/",
          "height": 0
        },
        "id": "3wJhylHiB8Yi",
        "outputId": "16efbb8f-b149-44ef-d1e3-c27f7db85a69"
      },
      "execution_count": 9,
      "outputs": [
        {
          "output_type": "execute_result",
          "data": {
            "text/plain": [
              "userId       0\n",
              "movieId      0\n",
              "tag          0\n",
              "timestamp    0\n",
              "dtype: int64"
            ],
            "text/html": [
              "<div>\n",
              "<style scoped>\n",
              "    .dataframe tbody tr th:only-of-type {\n",
              "        vertical-align: middle;\n",
              "    }\n",
              "\n",
              "    .dataframe tbody tr th {\n",
              "        vertical-align: top;\n",
              "    }\n",
              "\n",
              "    .dataframe thead th {\n",
              "        text-align: right;\n",
              "    }\n",
              "</style>\n",
              "<table border=\"1\" class=\"dataframe\">\n",
              "  <thead>\n",
              "    <tr style=\"text-align: right;\">\n",
              "      <th></th>\n",
              "      <th>0</th>\n",
              "    </tr>\n",
              "  </thead>\n",
              "  <tbody>\n",
              "    <tr>\n",
              "      <th>userId</th>\n",
              "      <td>0</td>\n",
              "    </tr>\n",
              "    <tr>\n",
              "      <th>movieId</th>\n",
              "      <td>0</td>\n",
              "    </tr>\n",
              "    <tr>\n",
              "      <th>tag</th>\n",
              "      <td>0</td>\n",
              "    </tr>\n",
              "    <tr>\n",
              "      <th>timestamp</th>\n",
              "      <td>0</td>\n",
              "    </tr>\n",
              "  </tbody>\n",
              "</table>\n",
              "</div><br><label><b>dtype:</b> int64</label>"
            ]
          },
          "metadata": {},
          "execution_count": 9
        }
      ]
    },
    {
      "cell_type": "markdown",
      "source": [
        "- Kini sudah tidak ada missing value."
      ],
      "metadata": {
        "id": "BjS5ZUt9ozw2"
      }
    },
    {
      "cell_type": "markdown",
      "source": [
        "### rating"
      ],
      "metadata": {
        "id": "ELuptnbyEki-"
      }
    },
    {
      "cell_type": "code",
      "source": [
        "rating.isna().sum()"
      ],
      "metadata": {
        "colab": {
          "base_uri": "https://localhost:8080/",
          "height": 0
        },
        "id": "gTpWVxnNEsCA",
        "outputId": "6d50f8fa-3750-4778-a175-e486cd5b9348"
      },
      "execution_count": 10,
      "outputs": [
        {
          "output_type": "execute_result",
          "data": {
            "text/plain": [
              "userId       0\n",
              "movieId      0\n",
              "rating       0\n",
              "timestamp    0\n",
              "dtype: int64"
            ],
            "text/html": [
              "<div>\n",
              "<style scoped>\n",
              "    .dataframe tbody tr th:only-of-type {\n",
              "        vertical-align: middle;\n",
              "    }\n",
              "\n",
              "    .dataframe tbody tr th {\n",
              "        vertical-align: top;\n",
              "    }\n",
              "\n",
              "    .dataframe thead th {\n",
              "        text-align: right;\n",
              "    }\n",
              "</style>\n",
              "<table border=\"1\" class=\"dataframe\">\n",
              "  <thead>\n",
              "    <tr style=\"text-align: right;\">\n",
              "      <th></th>\n",
              "      <th>0</th>\n",
              "    </tr>\n",
              "  </thead>\n",
              "  <tbody>\n",
              "    <tr>\n",
              "      <th>userId</th>\n",
              "      <td>0</td>\n",
              "    </tr>\n",
              "    <tr>\n",
              "      <th>movieId</th>\n",
              "      <td>0</td>\n",
              "    </tr>\n",
              "    <tr>\n",
              "      <th>rating</th>\n",
              "      <td>0</td>\n",
              "    </tr>\n",
              "    <tr>\n",
              "      <th>timestamp</th>\n",
              "      <td>0</td>\n",
              "    </tr>\n",
              "  </tbody>\n",
              "</table>\n",
              "</div><br><label><b>dtype:</b> int64</label>"
            ]
          },
          "metadata": {},
          "execution_count": 10
        }
      ]
    },
    {
      "cell_type": "markdown",
      "source": [
        "**Insight:** Tidak ada missing values."
      ],
      "metadata": {
        "id": "1w4vhIrfH6S6"
      }
    },
    {
      "cell_type": "markdown",
      "source": [
        "## Mengatasi Duplikasi"
      ],
      "metadata": {
        "id": "Nn651iQDCc-n"
      }
    },
    {
      "cell_type": "markdown",
      "source": [
        "Tahap ini dilakukan untuk mendeteksi dan mengatasi duplikasi yang nanti akan berpengaruh pada hasil rekomendasi."
      ],
      "metadata": {
        "id": "5DO2mHNOo7H0"
      }
    },
    {
      "cell_type": "code",
      "source": [
        "tags.duplicated().sum()"
      ],
      "metadata": {
        "colab": {
          "base_uri": "https://localhost:8080/"
        },
        "id": "x_dfpMDyCgft",
        "outputId": "840f7a0b-60f7-4fc3-aecb-562005b54bbd"
      },
      "execution_count": 11,
      "outputs": [
        {
          "output_type": "execute_result",
          "data": {
            "text/plain": [
              "np.int64(0)"
            ]
          },
          "metadata": {},
          "execution_count": 11
        }
      ]
    },
    {
      "cell_type": "code",
      "source": [
        "tags.shape"
      ],
      "metadata": {
        "colab": {
          "base_uri": "https://localhost:8080/"
        },
        "id": "VFDM5QjBdn2a",
        "outputId": "795bfa2b-cd83-4e7c-b06e-17ef1fb30cc3"
      },
      "execution_count": 12,
      "outputs": [
        {
          "output_type": "execute_result",
          "data": {
            "text/plain": [
              "(465548, 4)"
            ]
          },
          "metadata": {},
          "execution_count": 12
        }
      ]
    },
    {
      "cell_type": "code",
      "source": [
        "rating.shape"
      ],
      "metadata": {
        "colab": {
          "base_uri": "https://localhost:8080/"
        },
        "id": "Wmjr5y8IdrR8",
        "outputId": "377c1cd9-0b76-4c47-bef0-d0a534b92df7"
      },
      "execution_count": 13,
      "outputs": [
        {
          "output_type": "execute_result",
          "data": {
            "text/plain": [
              "(20000263, 4)"
            ]
          },
          "metadata": {},
          "execution_count": 13
        }
      ]
    },
    {
      "cell_type": "markdown",
      "source": [
        "**Insight:**\n",
        "- DataFrame movies_tags berisi 19545 data dengan 5 features dan DataFrame rating memiliki 20.000.263 data dengan 4 features."
      ],
      "metadata": {
        "id": "EPqZcuggICZo"
      }
    },
    {
      "cell_type": "markdown",
      "source": [
        "## Agregasi data berdasarkan movieId"
      ],
      "metadata": {
        "id": "DJuIZzHyp3rH"
      }
    },
    {
      "cell_type": "code",
      "source": [
        "movie_tags = tags.groupby('movieId')['tag'].apply(lambda x: ' '.join(x)).reset_index()"
      ],
      "metadata": {
        "id": "RjmdFdj7pei9"
      },
      "execution_count": null,
      "outputs": []
    },
    {
      "cell_type": "markdown",
      "source": [
        "- Melakukan pengelompokan (grouping) dan penggabungan (aggregation) data berdasarkan movieId."
      ],
      "metadata": {
        "id": "5D4GJ40FphWT"
      }
    },
    {
      "cell_type": "markdown",
      "source": [
        "## Penggabungan Tag per Film"
      ],
      "metadata": {
        "id": "3hmICYgXGZht"
      }
    },
    {
      "cell_type": "markdown",
      "source": [
        "Proses ini digunakan untuk mempersiapkan data teks (genre dan tag) dari film agar siap diolah dalam model Content-Based Filtering."
      ],
      "metadata": {
        "id": "N148yvb4pLTG"
      }
    },
    {
      "cell_type": "code",
      "source": [
        "movies_tags = pd.merge(movie, movie_tags, on='movieId', how='left')\n",
        "movies_tags['combined'] = movies_tags['genres'].str.replace('|', ' ') + ' ' + movies_tags['tag'].fillna('')"
      ],
      "metadata": {
        "id": "5r_qGZzWBDHu"
      },
      "execution_count": 14,
      "outputs": []
    },
    {
      "cell_type": "code",
      "source": [
        "movies_tags.head()"
      ],
      "metadata": {
        "colab": {
          "base_uri": "https://localhost:8080/",
          "height": 328
        },
        "id": "OwHaNQfaBoaH",
        "outputId": "3a3bd3ad-0f93-44e7-ed7e-1c636091d1af"
      },
      "execution_count": 17,
      "outputs": [
        {
          "output_type": "execute_result",
          "data": {
            "text/plain": [
              "   movieId                               title  \\\n",
              "0        1                    Toy Story (1995)   \n",
              "1        2                      Jumanji (1995)   \n",
              "2        3             Grumpier Old Men (1995)   \n",
              "3        4            Waiting to Exhale (1995)   \n",
              "4        5  Father of the Bride Part II (1995)   \n",
              "\n",
              "                                        genres  \\\n",
              "0  Adventure|Animation|Children|Comedy|Fantasy   \n",
              "1                   Adventure|Children|Fantasy   \n",
              "2                               Comedy|Romance   \n",
              "3                         Comedy|Drama|Romance   \n",
              "4                                       Comedy   \n",
              "\n",
              "                                                 tag  \\\n",
              "0  Watched computer animation Disney animated fea...   \n",
              "1  time travel adapted from:book board game child...   \n",
              "2  old people that is actually funny sequel fever...   \n",
              "3  chick flick revenge characters chick flick cha...   \n",
              "4  Diane Keaton family sequel Steve Martin weddin...   \n",
              "\n",
              "                                      combined  \n",
              "0  Adventure Animation Children Comedy Fantasy  \n",
              "1                   Adventure Children Fantasy  \n",
              "2                               Comedy Romance  \n",
              "3                         Comedy Drama Romance  \n",
              "4                                       Comedy  "
            ],
            "text/html": [
              "\n",
              "  <div id=\"df-a08384bd-4ec1-45d8-a6ba-aca2109c6406\" class=\"colab-df-container\">\n",
              "    <div>\n",
              "<style scoped>\n",
              "    .dataframe tbody tr th:only-of-type {\n",
              "        vertical-align: middle;\n",
              "    }\n",
              "\n",
              "    .dataframe tbody tr th {\n",
              "        vertical-align: top;\n",
              "    }\n",
              "\n",
              "    .dataframe thead th {\n",
              "        text-align: right;\n",
              "    }\n",
              "</style>\n",
              "<table border=\"1\" class=\"dataframe\">\n",
              "  <thead>\n",
              "    <tr style=\"text-align: right;\">\n",
              "      <th></th>\n",
              "      <th>movieId</th>\n",
              "      <th>title</th>\n",
              "      <th>genres</th>\n",
              "      <th>tag</th>\n",
              "      <th>combined</th>\n",
              "    </tr>\n",
              "  </thead>\n",
              "  <tbody>\n",
              "    <tr>\n",
              "      <th>0</th>\n",
              "      <td>1</td>\n",
              "      <td>Toy Story (1995)</td>\n",
              "      <td>Adventure|Animation|Children|Comedy|Fantasy</td>\n",
              "      <td>Watched computer animation Disney animated fea...</td>\n",
              "      <td>Adventure Animation Children Comedy Fantasy</td>\n",
              "    </tr>\n",
              "    <tr>\n",
              "      <th>1</th>\n",
              "      <td>2</td>\n",
              "      <td>Jumanji (1995)</td>\n",
              "      <td>Adventure|Children|Fantasy</td>\n",
              "      <td>time travel adapted from:book board game child...</td>\n",
              "      <td>Adventure Children Fantasy</td>\n",
              "    </tr>\n",
              "    <tr>\n",
              "      <th>2</th>\n",
              "      <td>3</td>\n",
              "      <td>Grumpier Old Men (1995)</td>\n",
              "      <td>Comedy|Romance</td>\n",
              "      <td>old people that is actually funny sequel fever...</td>\n",
              "      <td>Comedy Romance</td>\n",
              "    </tr>\n",
              "    <tr>\n",
              "      <th>3</th>\n",
              "      <td>4</td>\n",
              "      <td>Waiting to Exhale (1995)</td>\n",
              "      <td>Comedy|Drama|Romance</td>\n",
              "      <td>chick flick revenge characters chick flick cha...</td>\n",
              "      <td>Comedy Drama Romance</td>\n",
              "    </tr>\n",
              "    <tr>\n",
              "      <th>4</th>\n",
              "      <td>5</td>\n",
              "      <td>Father of the Bride Part II (1995)</td>\n",
              "      <td>Comedy</td>\n",
              "      <td>Diane Keaton family sequel Steve Martin weddin...</td>\n",
              "      <td>Comedy</td>\n",
              "    </tr>\n",
              "  </tbody>\n",
              "</table>\n",
              "</div>\n",
              "    <div class=\"colab-df-buttons\">\n",
              "\n",
              "  <div class=\"colab-df-container\">\n",
              "    <button class=\"colab-df-convert\" onclick=\"convertToInteractive('df-a08384bd-4ec1-45d8-a6ba-aca2109c6406')\"\n",
              "            title=\"Convert this dataframe to an interactive table.\"\n",
              "            style=\"display:none;\">\n",
              "\n",
              "  <svg xmlns=\"http://www.w3.org/2000/svg\" height=\"24px\" viewBox=\"0 -960 960 960\">\n",
              "    <path d=\"M120-120v-720h720v720H120Zm60-500h600v-160H180v160Zm220 220h160v-160H400v160Zm0 220h160v-160H400v160ZM180-400h160v-160H180v160Zm440 0h160v-160H620v160ZM180-180h160v-160H180v160Zm440 0h160v-160H620v160Z\"/>\n",
              "  </svg>\n",
              "    </button>\n",
              "\n",
              "  <style>\n",
              "    .colab-df-container {\n",
              "      display:flex;\n",
              "      gap: 12px;\n",
              "    }\n",
              "\n",
              "    .colab-df-convert {\n",
              "      background-color: #E8F0FE;\n",
              "      border: none;\n",
              "      border-radius: 50%;\n",
              "      cursor: pointer;\n",
              "      display: none;\n",
              "      fill: #1967D2;\n",
              "      height: 32px;\n",
              "      padding: 0 0 0 0;\n",
              "      width: 32px;\n",
              "    }\n",
              "\n",
              "    .colab-df-convert:hover {\n",
              "      background-color: #E2EBFA;\n",
              "      box-shadow: 0px 1px 2px rgba(60, 64, 67, 0.3), 0px 1px 3px 1px rgba(60, 64, 67, 0.15);\n",
              "      fill: #174EA6;\n",
              "    }\n",
              "\n",
              "    .colab-df-buttons div {\n",
              "      margin-bottom: 4px;\n",
              "    }\n",
              "\n",
              "    [theme=dark] .colab-df-convert {\n",
              "      background-color: #3B4455;\n",
              "      fill: #D2E3FC;\n",
              "    }\n",
              "\n",
              "    [theme=dark] .colab-df-convert:hover {\n",
              "      background-color: #434B5C;\n",
              "      box-shadow: 0px 1px 3px 1px rgba(0, 0, 0, 0.15);\n",
              "      filter: drop-shadow(0px 1px 2px rgba(0, 0, 0, 0.3));\n",
              "      fill: #FFFFFF;\n",
              "    }\n",
              "  </style>\n",
              "\n",
              "    <script>\n",
              "      const buttonEl =\n",
              "        document.querySelector('#df-a08384bd-4ec1-45d8-a6ba-aca2109c6406 button.colab-df-convert');\n",
              "      buttonEl.style.display =\n",
              "        google.colab.kernel.accessAllowed ? 'block' : 'none';\n",
              "\n",
              "      async function convertToInteractive(key) {\n",
              "        const element = document.querySelector('#df-a08384bd-4ec1-45d8-a6ba-aca2109c6406');\n",
              "        const dataTable =\n",
              "          await google.colab.kernel.invokeFunction('convertToInteractive',\n",
              "                                                    [key], {});\n",
              "        if (!dataTable) return;\n",
              "\n",
              "        const docLinkHtml = 'Like what you see? Visit the ' +\n",
              "          '<a target=\"_blank\" href=https://colab.research.google.com/notebooks/data_table.ipynb>data table notebook</a>'\n",
              "          + ' to learn more about interactive tables.';\n",
              "        element.innerHTML = '';\n",
              "        dataTable['output_type'] = 'display_data';\n",
              "        await google.colab.output.renderOutput(dataTable, element);\n",
              "        const docLink = document.createElement('div');\n",
              "        docLink.innerHTML = docLinkHtml;\n",
              "        element.appendChild(docLink);\n",
              "      }\n",
              "    </script>\n",
              "  </div>\n",
              "\n",
              "\n",
              "    <div id=\"df-127e261a-36a0-48b1-bf40-d5e518956c39\">\n",
              "      <button class=\"colab-df-quickchart\" onclick=\"quickchart('df-127e261a-36a0-48b1-bf40-d5e518956c39')\"\n",
              "                title=\"Suggest charts\"\n",
              "                style=\"display:none;\">\n",
              "\n",
              "<svg xmlns=\"http://www.w3.org/2000/svg\" height=\"24px\"viewBox=\"0 0 24 24\"\n",
              "     width=\"24px\">\n",
              "    <g>\n",
              "        <path d=\"M19 3H5c-1.1 0-2 .9-2 2v14c0 1.1.9 2 2 2h14c1.1 0 2-.9 2-2V5c0-1.1-.9-2-2-2zM9 17H7v-7h2v7zm4 0h-2V7h2v10zm4 0h-2v-4h2v4z\"/>\n",
              "    </g>\n",
              "</svg>\n",
              "      </button>\n",
              "\n",
              "<style>\n",
              "  .colab-df-quickchart {\n",
              "      --bg-color: #E8F0FE;\n",
              "      --fill-color: #1967D2;\n",
              "      --hover-bg-color: #E2EBFA;\n",
              "      --hover-fill-color: #174EA6;\n",
              "      --disabled-fill-color: #AAA;\n",
              "      --disabled-bg-color: #DDD;\n",
              "  }\n",
              "\n",
              "  [theme=dark] .colab-df-quickchart {\n",
              "      --bg-color: #3B4455;\n",
              "      --fill-color: #D2E3FC;\n",
              "      --hover-bg-color: #434B5C;\n",
              "      --hover-fill-color: #FFFFFF;\n",
              "      --disabled-bg-color: #3B4455;\n",
              "      --disabled-fill-color: #666;\n",
              "  }\n",
              "\n",
              "  .colab-df-quickchart {\n",
              "    background-color: var(--bg-color);\n",
              "    border: none;\n",
              "    border-radius: 50%;\n",
              "    cursor: pointer;\n",
              "    display: none;\n",
              "    fill: var(--fill-color);\n",
              "    height: 32px;\n",
              "    padding: 0;\n",
              "    width: 32px;\n",
              "  }\n",
              "\n",
              "  .colab-df-quickchart:hover {\n",
              "    background-color: var(--hover-bg-color);\n",
              "    box-shadow: 0 1px 2px rgba(60, 64, 67, 0.3), 0 1px 3px 1px rgba(60, 64, 67, 0.15);\n",
              "    fill: var(--button-hover-fill-color);\n",
              "  }\n",
              "\n",
              "  .colab-df-quickchart-complete:disabled,\n",
              "  .colab-df-quickchart-complete:disabled:hover {\n",
              "    background-color: var(--disabled-bg-color);\n",
              "    fill: var(--disabled-fill-color);\n",
              "    box-shadow: none;\n",
              "  }\n",
              "\n",
              "  .colab-df-spinner {\n",
              "    border: 2px solid var(--fill-color);\n",
              "    border-color: transparent;\n",
              "    border-bottom-color: var(--fill-color);\n",
              "    animation:\n",
              "      spin 1s steps(1) infinite;\n",
              "  }\n",
              "\n",
              "  @keyframes spin {\n",
              "    0% {\n",
              "      border-color: transparent;\n",
              "      border-bottom-color: var(--fill-color);\n",
              "      border-left-color: var(--fill-color);\n",
              "    }\n",
              "    20% {\n",
              "      border-color: transparent;\n",
              "      border-left-color: var(--fill-color);\n",
              "      border-top-color: var(--fill-color);\n",
              "    }\n",
              "    30% {\n",
              "      border-color: transparent;\n",
              "      border-left-color: var(--fill-color);\n",
              "      border-top-color: var(--fill-color);\n",
              "      border-right-color: var(--fill-color);\n",
              "    }\n",
              "    40% {\n",
              "      border-color: transparent;\n",
              "      border-right-color: var(--fill-color);\n",
              "      border-top-color: var(--fill-color);\n",
              "    }\n",
              "    60% {\n",
              "      border-color: transparent;\n",
              "      border-right-color: var(--fill-color);\n",
              "    }\n",
              "    80% {\n",
              "      border-color: transparent;\n",
              "      border-right-color: var(--fill-color);\n",
              "      border-bottom-color: var(--fill-color);\n",
              "    }\n",
              "    90% {\n",
              "      border-color: transparent;\n",
              "      border-bottom-color: var(--fill-color);\n",
              "    }\n",
              "  }\n",
              "</style>\n",
              "\n",
              "      <script>\n",
              "        async function quickchart(key) {\n",
              "          const quickchartButtonEl =\n",
              "            document.querySelector('#' + key + ' button');\n",
              "          quickchartButtonEl.disabled = true;  // To prevent multiple clicks.\n",
              "          quickchartButtonEl.classList.add('colab-df-spinner');\n",
              "          try {\n",
              "            const charts = await google.colab.kernel.invokeFunction(\n",
              "                'suggestCharts', [key], {});\n",
              "          } catch (error) {\n",
              "            console.error('Error during call to suggestCharts:', error);\n",
              "          }\n",
              "          quickchartButtonEl.classList.remove('colab-df-spinner');\n",
              "          quickchartButtonEl.classList.add('colab-df-quickchart-complete');\n",
              "        }\n",
              "        (() => {\n",
              "          let quickchartButtonEl =\n",
              "            document.querySelector('#df-127e261a-36a0-48b1-bf40-d5e518956c39 button');\n",
              "          quickchartButtonEl.style.display =\n",
              "            google.colab.kernel.accessAllowed ? 'block' : 'none';\n",
              "        })();\n",
              "      </script>\n",
              "    </div>\n",
              "\n",
              "    </div>\n",
              "  </div>\n"
            ],
            "application/vnd.google.colaboratory.intrinsic+json": {
              "type": "dataframe",
              "variable_name": "movies_tags",
              "summary": "{\n  \"name\": \"movies_tags\",\n  \"rows\": 27278,\n  \"fields\": [\n    {\n      \"column\": \"movieId\",\n      \"properties\": {\n        \"dtype\": \"number\",\n        \"std\": 44429,\n        \"min\": 1,\n        \"max\": 131262,\n        \"num_unique_values\": 27278,\n        \"samples\": [\n          61116,\n          70697,\n          111931\n        ],\n        \"semantic_type\": \"\",\n        \"description\": \"\"\n      }\n    },\n    {\n      \"column\": \"title\",\n      \"properties\": {\n        \"dtype\": \"string\",\n        \"num_unique_values\": 27262,\n        \"samples\": [\n          \"Look (2007)\",\n          \"Return of the Living Dead: Rave to the Grave (2005)\",\n          \"Quare Fellow, The (a.k.a. The Condemned Man) (1962)\"\n        ],\n        \"semantic_type\": \"\",\n        \"description\": \"\"\n      }\n    },\n    {\n      \"column\": \"genres\",\n      \"properties\": {\n        \"dtype\": \"category\",\n        \"num_unique_values\": 1342,\n        \"samples\": [\n          \"Comedy|Horror|Romance|Sci-Fi\",\n          \"Action|Adventure|Animation|Fantasy|Sci-Fi\",\n          \"Thriller|War\"\n        ],\n        \"semantic_type\": \"\",\n        \"description\": \"\"\n      }\n    },\n    {\n      \"column\": \"tag\",\n      \"properties\": {\n        \"dtype\": \"string\",\n        \"num_unique_values\": 16980,\n        \"samples\": [\n          \"Alain Sachs Audrey Tautou Fran\\u00c3\\u00a7oise Bertin Guillaume Canet Laurent Stocker love triangle stuttering\",\n          \"adultery Carrie Fisher Woody Allen Woody Allen great soundtrack Woody Allen dysfunctional family comedy dialogue driven great soundtrack need to own relationships Bob*ola KAF movie to see adultery Woody Allen Woody Allen classic realistic female character(s) Woody Allen Den fungerer lidt som en kolage som deles ind a tekststykker mellem scenerne - selvom der er et samlende narrativ gennem alle scenerne. den har virkelig mange fine passager. den var tangerende firre en halve p\\u00e5 visse tidspunkter adultery Carrie Fisher family Oscar (Best Supporting Actor) Oscar (Best Supporting Actress) Woody Allen Woody Allen classic Woody Allen who cares DVDs Overly-Dramatic dialogue driven family human nature Manhattan realistic female character(s) relationships Woody Allen adultery Manhattan New York City siblings Woody Allen family Oscar (Best Supporting Actor) Oscar (Best Supporting Actress) Oscar (Best Supporting Actor) Oscar (Best Supporting Actress) Woody Allen Betamax CLV DVD-Video erlend's DVDs family Woody Allen Tumey's DVDs\",\n          \"boring camping trip emma watson dark fantasy Harry Potter magic Alan Rickman Daniel Radcliffe David Yates Emma Watson Rupert Grint British boring camping trip confusing based on a book boring British Emma Watson magic Daniel Radcliffe Emma Watson Harry Potter Tom Felton based on a book British magic based on a book boring Emma Watson boring Daniel Radcliffe Harry Potter magic magic school parallel universe magic teleportation Daniel Radcliffe dark Emma Watson England Helena Bonham Carter persecution racial hygiene racism Alan Rickman Helena Bonham Carter Ralph Fiennes boring Daniel Radcliffe Emma Watson dark fantasy Harry Potter based on a book boarding school Emma Watson Alan Rickman British England Harry Potter Helena Bonham Carter London magic dark fantasy Harry Potter magic based on a book dark franchise quest Alan Rickman based on a book boring dark magic Alan Rickman British dark dark fantasy isolation lengthy magic ron weasley Rupert Grint teleportation Alan Rickman based on a book boarding school British Harry Potter magic adapted from:book Alan Rickman ambush author:J. K. Rowling Bechdel Test:Pass boyfriend girlfriend relationship British confusing dark dark fantasy England franchise friendship conflict genocide good versus evil grave robbing Harry Potter Helena Bonham Carter infiltrators innocents killed isolation London loyalty magic mourning on the run Oscar Nominee: Art Direction Oscar Nominee: Visual Effects PG-13 PG-13:brief sensuality PG-13:frightening images PG-13:some sequences of intense action violence prejudice quest racism rescue screenwriter:Steve Kloves Seen 2010 Snakes teleportation wedding based on a book British dark England REDBOX Final chapter David Yates Rhys Ifans based on a book Helena Bonham Carter Ralph Fiennes Alan Rickman Helena Bonham Carter Ralph Fiennes Alan Rickman based on a book British dark fantasy Helena Bonham Carter magic Ralph Fiennes Alan Rickman Daniel Radcliffe Emma Watson Rupert Grint magic based on a book Final chapter Overlong Pacey Rupert Grint Alan Rickman boarding school dark fantasy Alan Rickman based on a book British dark dark fantasy England magic magic based on a book boarding school England franchise Harry Potter magic based on a book magic netflix British England Helena Bonham Carter London genocide To Be Continued based on a book British dark magic Alan Rickman based on a book British dark fantasy England Harry Potter Helena Bonham Carter magic Ralph Fiennes based on a book based on a book Daniel Radcliffe boring Daniel Radcliffe Emma Watson long dark isolation Helena Bonham Carter Ralph Fiennes Alan Rickman Alexandre Desplat based on a book Bill Nighy British Daniel Radcliffe dark David Thewlis David Yates DVD Emma Watson England Evanna Lynch franchise Helena Bonham Carter Jason Isaacs magic Ralph Fiennes Rupert Grint Tom Felton fantasy world Harry Potter magic product placement DVD-Video IMAX DMR based on a book magic Alan Rickman British Daniel Radcliffe dark fantasy on the run Helena Bonham Carter erlend's DVDs Netflix Finland Alan Rickman dark Emma Watson Ralph Fiennes followed the plot of the book no resolutions only half of a story\"\n        ],\n        \"semantic_type\": \"\",\n        \"description\": \"\"\n      }\n    },\n    {\n      \"column\": \"combined\",\n      \"properties\": {\n        \"dtype\": \"category\",\n        \"num_unique_values\": 1342,\n        \"samples\": [\n          \"Comedy Horror Romance Sci-Fi\",\n          \"Action Adventure Animation Fantasy Sci-Fi\",\n          \"Thriller War\"\n        ],\n        \"semantic_type\": \"\",\n        \"description\": \"\"\n      }\n    }\n  ]\n}"
            }
          },
          "metadata": {},
          "execution_count": 17
        }
      ]
    },
    {
      "cell_type": "markdown",
      "source": [
        "**Insight:**\n",
        "- feature ```movies_tags['combined']``` adalah feature yang berisi gabungan data dari feature ```movies_tags['genres']``` dan juga ```movies_tags['tag']```.\n",
        "- Tujuan dari operasi ini adalah untuk membuat data siap diolah menggunakan TF-IDF dan penggabungan ini dapat memperkaya film karena genre memberikan informasi umum tentang film dan tag memberikan deskripsi lebih spesifik dari pengguna."
      ],
      "metadata": {
        "id": "nicLZCmsGiGu"
      }
    },
    {
      "cell_type": "markdown",
      "source": [
        "## TF-IDF Vectorizer"
      ],
      "metadata": {
        "id": "NB7eN7VCCcF9"
      }
    },
    {
      "cell_type": "markdown",
      "source": [
        "Proses ini digunakan untuk mengubah teks (genre + tag film) menjadi representasi numerik menggunakan teknik TF-IDF (Term Frequency-Inverse Document Frequency), sehingga bisa dihitung kemiripannya (cosine similarity) untuk sistem rekomendasi berbasis konten (Content-Based Filtering)."
      ],
      "metadata": {
        "id": "yQFIk6sxpwYI"
      }
    },
    {
      "cell_type": "code",
      "source": [
        "movie_tags_copy = movies_tags.copy()"
      ],
      "metadata": {
        "id": "-0j03NnLB6NA"
      },
      "execution_count": null,
      "outputs": []
    },
    {
      "cell_type": "code",
      "source": [
        "movie_tags_copy.info()"
      ],
      "metadata": {
        "colab": {
          "base_uri": "https://localhost:8080/"
        },
        "id": "SqKDkLufC85s",
        "outputId": "c96cf988-de90-452a-fa2c-d77ce2d583b7"
      },
      "execution_count": null,
      "outputs": [
        {
          "output_type": "stream",
          "name": "stdout",
          "text": [
            "<class 'pandas.core.frame.DataFrame'>\n",
            "Index: 19545 entries, 0 to 27275\n",
            "Data columns (total 5 columns):\n",
            " #   Column    Non-Null Count  Dtype \n",
            "---  ------    --------------  ----- \n",
            " 0   movieId   19545 non-null  int64 \n",
            " 1   title     19545 non-null  object\n",
            " 2   genres    19545 non-null  object\n",
            " 3   tag       19545 non-null  object\n",
            " 4   combined  19545 non-null  object\n",
            "dtypes: int64(1), object(4)\n",
            "memory usage: 916.2+ KB\n"
          ]
        }
      ]
    },
    {
      "cell_type": "code",
      "source": [
        "tfidf = TfidfVectorizer(stop_words='english', max_features=5000, ngram_range=(1,2))\n",
        "tfidf_matrix = tfidf.fit_transform(movie_tags_copy['combined'])"
      ],
      "metadata": {
        "id": "U8FzrBjZCkQ5"
      },
      "execution_count": null,
      "outputs": []
    },
    {
      "cell_type": "code",
      "source": [
        "tfidf_matrix.shape"
      ],
      "metadata": {
        "colab": {
          "base_uri": "https://localhost:8080/"
        },
        "id": "BooSLpSDX2qw",
        "outputId": "92b5643a-7098-43ca-8a57-94a8a90e060f"
      },
      "execution_count": null,
      "outputs": [
        {
          "output_type": "execute_result",
          "data": {
            "text/plain": [
              "(19545, 5000)"
            ]
          },
          "metadata": {},
          "execution_count": 16
        }
      ]
    },
    {
      "cell_type": "markdown",
      "source": [
        "**Insight:** Dataset ini terdiri dari 19.545 film dan dari kolom 'combined' (kombinasi dat pada features genres dan tags) TF-IDF Vectorizer menghasilkan 23.865 kata unik setelah stop words dihapus."
      ],
      "metadata": {
        "id": "UvSt2ytcIhZj"
      }
    },
    {
      "cell_type": "markdown",
      "source": [
        "## Pengambilan Data Sampel Rating"
      ],
      "metadata": {
        "id": "C88gVFsaDBPq"
      }
    },
    {
      "cell_type": "code",
      "source": [
        "rating.shape"
      ],
      "metadata": {
        "colab": {
          "base_uri": "https://localhost:8080/"
        },
        "id": "JR5tzHPdYHM0",
        "outputId": "1f817adb-9cd1-424d-a9b6-adee8254e6c4"
      },
      "execution_count": null,
      "outputs": [
        {
          "output_type": "execute_result",
          "data": {
            "text/plain": [
              "(20000263, 4)"
            ]
          },
          "metadata": {},
          "execution_count": 17
        }
      ]
    },
    {
      "cell_type": "markdown",
      "source": [
        "Dataset yang ada pada DataFrame rating terlalu banyak (20.000.263), sehingga menurut saya akan lebih baik jika menggunakan jumlah data ideal (2000.000, 10% dari data total) dari dataset tersebut agar model train dilakukan dengan lebih efisien namun tetap memberikan performa yang baik."
      ],
      "metadata": {
        "id": "5aPnSaPfYLvW"
      }
    },
    {
      "cell_type": "code",
      "source": [
        "ratings = rating.copy()"
      ],
      "metadata": {
        "id": "J9s5nz2FgqKW"
      },
      "execution_count": null,
      "outputs": []
    },
    {
      "cell_type": "code",
      "source": [
        "ratings = ratings.sample(2000_000, random_state=42)"
      ],
      "metadata": {
        "id": "2Eiim4q7LYg6"
      },
      "execution_count": null,
      "outputs": []
    },
    {
      "cell_type": "code",
      "source": [
        "ratings.shape"
      ],
      "metadata": {
        "colab": {
          "base_uri": "https://localhost:8080/"
        },
        "id": "EZ1yCVqWLbAJ",
        "outputId": "45832e63-7e06-4116-87f3-aacadbb2ede6"
      },
      "execution_count": null,
      "outputs": [
        {
          "output_type": "execute_result",
          "data": {
            "text/plain": [
              "(2000000, 4)"
            ]
          },
          "metadata": {},
          "execution_count": 20
        }
      ]
    },
    {
      "cell_type": "markdown",
      "source": [
        "Jumlah dataset berhasil diperkecil dengan hanya mengambil 10% (2000.000) data dari data keseluruhan, yaitu 20.000.263"
      ],
      "metadata": {
        "id": "UGwtmJm_Yym1"
      }
    },
    {
      "cell_type": "markdown",
      "source": [
        "## Encode userId dan movieId"
      ],
      "metadata": {
        "id": "jzH2QVHwg1hl"
      }
    },
    {
      "cell_type": "markdown",
      "source": [
        "Pada tahap ini melakukan preprocessing data rating untuk mempersiapkan input yang dibutuhkan oleh model Collaborative Filtering (filter kolaboratif)"
      ],
      "metadata": {
        "id": "0UZAq3wmqBTd"
      }
    },
    {
      "cell_type": "code",
      "source": [
        "user_ids = ratings['userId'].unique()\n",
        "movie_ids = ratings['movieId'].unique()\n",
        "\n",
        "user_to_idx = {user: idx for idx, user in enumerate(user_ids)}\n",
        "movie_to_idx = {movie: idx for idx, movie in enumerate(movie_ids)}"
      ],
      "metadata": {
        "id": "qzYiKFoLgzmc"
      },
      "execution_count": null,
      "outputs": []
    },
    {
      "cell_type": "code",
      "source": [
        "x_user = np.array([user_to_idx[u] for u in ratings['userId']], dtype=np.int32)\n",
        "x_movie = np.array([movie_to_idx[m] for m in ratings['movieId']], dtype=np.int32)\n",
        "\n",
        "min_rating, max_rating = ratings['rating'].min(), ratings['rating'].max()\n",
        "y = ((ratings['rating'].values - min_rating) / (max_rating - min_rating)).astype(np.float32)\n",
        "\n",
        "x = np.column_stack((x_user, x_movie))"
      ],
      "metadata": {
        "id": "LVfUTP87j5CE"
      },
      "execution_count": null,
      "outputs": []
    },
    {
      "cell_type": "markdown",
      "source": [
        "## Membagi Data untuk Training dan Validasi (Collaborative Filtering)"
      ],
      "metadata": {
        "id": "mje4S1iqg97W"
      }
    },
    {
      "cell_type": "code",
      "source": [
        "indices = np.random.permutation(len(x))\n",
        "train_size = int(0.8 * len(x))\n",
        "train_idx, val_idx = indices[:train_size], indices[train_size:]\n",
        "\n",
        "x_train, y_train = x[train_idx], y[train_idx]\n",
        "x_val, y_val = x[val_idx], y[val_idx]"
      ],
      "metadata": {
        "id": "9YOzo2gyg7mn"
      },
      "execution_count": null,
      "outputs": []
    },
    {
      "cell_type": "code",
      "source": [
        "train_ds = tf.data.Dataset.from_tensor_slices((x_train, y_train))\n",
        "train_ds = train_ds.shuffle(10000).batch(128).prefetch(tf.data.AUTOTUNE)\n",
        "\n",
        "val_ds = tf.data.Dataset.from_tensor_slices((x_val, y_val))\n",
        "val_ds = val_ds.batch(128).prefetch(tf.data.AUTOTUNE)"
      ],
      "metadata": {
        "id": "lEelZRzXDQLF"
      },
      "execution_count": null,
      "outputs": []
    },
    {
      "cell_type": "code",
      "source": [
        "print(f\"Total data: {len(x)}\")\n",
        "print(f\"Data training: {len(x_train)} ({len(x_train)/len(x)*100:.1f}%)\")\n",
        "print(f\"Data validation: {len(x_val)} ({len(x_val)/len(x)*100:.1f}%)\")"
      ],
      "metadata": {
        "colab": {
          "base_uri": "https://localhost:8080/"
        },
        "id": "WwLYyPQ1cvL-",
        "outputId": "5e2f315f-2225-4471-ffa1-54dde5719842"
      },
      "execution_count": null,
      "outputs": [
        {
          "output_type": "stream",
          "name": "stdout",
          "text": [
            "Total data: 2000000\n",
            "Data training: 1600000 (80.0%)\n",
            "Data validation: 400000 (20.0%)\n"
          ]
        }
      ]
    },
    {
      "cell_type": "markdown",
      "source": [
        "**Insight:**\n",
        "- Dataset sampel sudah berhasil di split menjadi data training dan data validation dengan perbandingan 80:20.\n",
        "- 80% dari 2000.000 data digunakan sebagai data training (160.000)\n",
        "- 20% dari 2000.000 data digunakan sebagai data validation (40.000)"
      ],
      "metadata": {
        "id": "FfPtrfwpes-j"
      }
    },
    {
      "cell_type": "markdown",
      "source": [
        "# Model Development Content Based Filtering"
      ],
      "metadata": {
        "id": "oGQYUmkZCWdD"
      }
    },
    {
      "cell_type": "markdown",
      "source": [
        "Content-Based Filtering merekomendasikan item berdasarkan kesamaan fitur dengan item yang disukai pengguna di masa lalu. Misalnya, jika Anda sering menonton film sci-fi seperti Interstellar, sistem akan menganalisis genre, sutradara, atau aktor dari film tersebut, lalu merekomendasikan film sci-fi lain seperti The Martian. Kelebihannya: cocok untuk cold start problem (item/user baru), tapi terbatas pada rekomendasi serupa (kurang beragam)."
      ],
      "metadata": {
        "id": "FPStJ-2csW3S"
      }
    },
    {
      "cell_type": "markdown",
      "source": [
        "## Cosine Similarity"
      ],
      "metadata": {
        "id": "Iupcizy2DHMb"
      }
    },
    {
      "cell_type": "code",
      "source": [
        "cosine_sim = cosine_similarity(tfidf_matrix, tfidf_matrix)\n",
        "cosine_sim_df = pd.DataFrame(cosine_sim, index=movie_tags_copy['title'], columns=movie_tags_copy['title'])"
      ],
      "metadata": {
        "id": "dyGCsurTDKQo"
      },
      "execution_count": null,
      "outputs": []
    },
    {
      "cell_type": "code",
      "source": [
        "cosine_sim_df.head()"
      ],
      "metadata": {
        "colab": {
          "base_uri": "https://localhost:8080/",
          "height": 530
        },
        "id": "EEbxMnhnXtQm",
        "outputId": "faa41001-60a3-4395-f184-634fcf77eea6"
      },
      "execution_count": null,
      "outputs": [
        {
          "output_type": "execute_result",
          "data": {
            "text/plain": [
              "title                               Toy Story (1995)  Jumanji (1995)  \\\n",
              "title                                                                  \n",
              "Toy Story (1995)                            1.000000        0.064998   \n",
              "Jumanji (1995)                              0.064998        1.000000   \n",
              "Grumpier Old Men (1995)                     0.015458        0.001309   \n",
              "Waiting to Exhale (1995)                    0.003731        0.042097   \n",
              "Father of the Bride Part II (1995)          0.026791        0.017822   \n",
              "\n",
              "title                               Grumpier Old Men (1995)  \\\n",
              "title                                                         \n",
              "Toy Story (1995)                                   0.015458   \n",
              "Jumanji (1995)                                     0.001309   \n",
              "Grumpier Old Men (1995)                            1.000000   \n",
              "Waiting to Exhale (1995)                           0.036096   \n",
              "Father of the Bride Part II (1995)                 0.124356   \n",
              "\n",
              "title                               Waiting to Exhale (1995)  \\\n",
              "title                                                          \n",
              "Toy Story (1995)                                    0.003731   \n",
              "Jumanji (1995)                                      0.042097   \n",
              "Grumpier Old Men (1995)                             0.036096   \n",
              "Waiting to Exhale (1995)                            1.000000   \n",
              "Father of the Bride Part II (1995)                  0.017325   \n",
              "\n",
              "title                               Father of the Bride Part II (1995)  \\\n",
              "title                                                                    \n",
              "Toy Story (1995)                                              0.026791   \n",
              "Jumanji (1995)                                                0.017822   \n",
              "Grumpier Old Men (1995)                                       0.124356   \n",
              "Waiting to Exhale (1995)                                      0.017325   \n",
              "Father of the Bride Part II (1995)                            1.000000   \n",
              "\n",
              "title                               Heat (1995)  Sabrina (1995)  \\\n",
              "title                                                             \n",
              "Toy Story (1995)                       0.007177        0.001084   \n",
              "Jumanji (1995)                         0.000593        0.023073   \n",
              "Grumpier Old Men (1995)                0.000870        0.031252   \n",
              "Waiting to Exhale (1995)               0.001183        0.360625   \n",
              "Father of the Bride Part II (1995)     0.000552        0.047675   \n",
              "\n",
              "title                               Tom and Huck (1995)  Sudden Death (1995)  \\\n",
              "title                                                                          \n",
              "Toy Story (1995)                               0.030547             0.000772   \n",
              "Jumanji (1995)                                 0.077693             0.013997   \n",
              "Grumpier Old Men (1995)                        0.000000             0.005531   \n",
              "Waiting to Exhale (1995)                       0.000000             0.007523   \n",
              "Father of the Bride Part II (1995)             0.000000             0.003514   \n",
              "\n",
              "title                               GoldenEye (1995)  ...  \\\n",
              "title                                                 ...   \n",
              "Toy Story (1995)                            0.007923  ...   \n",
              "Jumanji (1995)                              0.002351  ...   \n",
              "Grumpier Old Men (1995)                     0.012759  ...   \n",
              "Waiting to Exhale (1995)                    0.007683  ...   \n",
              "Father of the Bride Part II (1995)          0.006429  ...   \n",
              "\n",
              "title                               Santo vs. las lobas (1976)  \\\n",
              "title                                                            \n",
              "Toy Story (1995)                                      0.011363   \n",
              "Jumanji (1995)                                        0.041536   \n",
              "Grumpier Old Men (1995)                               0.000000   \n",
              "Waiting to Exhale (1995)                              0.000000   \n",
              "Father of the Bride Part II (1995)                    0.017174   \n",
              "\n",
              "title                               Execution Squad (1972)  Get Hard (2015)  \\\n",
              "title                                                                         \n",
              "Toy Story (1995)                                  0.001056         0.012319   \n",
              "Jumanji (1995)                                    0.000000         0.000000   \n",
              "Grumpier Old Men (1995)                           0.000000         0.042826   \n",
              "Waiting to Exhale (1995)                          0.065383         0.029124   \n",
              "Father of the Bride Part II (1995)                0.000000         0.027204   \n",
              "\n",
              "title                               Hellgate (2011)  \\\n",
              "title                                                 \n",
              "Toy Story (1995)                           0.000000   \n",
              "Jumanji (1995)                             0.012941   \n",
              "Grumpier Old Men (1995)                    0.000000   \n",
              "Waiting to Exhale (1995)                   0.000000   \n",
              "Father of the Bride Part II (1995)         0.000000   \n",
              "\n",
              "title                               La liga no es cosa de hombres (1972)  \\\n",
              "title                                                                      \n",
              "Toy Story (1995)                                                     0.0   \n",
              "Jumanji (1995)                                                       0.0   \n",
              "Grumpier Old Men (1995)                                              0.0   \n",
              "Waiting to Exhale (1995)                                             0.0   \n",
              "Father of the Bride Part II (1995)                                   0.0   \n",
              "\n",
              "title                               Dinotopia: Quest for the Ruby Sunstone (2005)  \\\n",
              "title                                                                               \n",
              "Toy Story (1995)                                                         0.038200   \n",
              "Jumanji (1995)                                                           0.097744   \n",
              "Grumpier Old Men (1995)                                                  0.000000   \n",
              "Waiting to Exhale (1995)                                                 0.000000   \n",
              "Father of the Bride Part II (1995)                                       0.018525   \n",
              "\n",
              "title                               Playground (2009)  Vietnam in HD (2011)  \\\n",
              "title                                                                         \n",
              "Toy Story (1995)                                  0.0                   0.0   \n",
              "Jumanji (1995)                                    0.0                   0.0   \n",
              "Grumpier Old Men (1995)                           0.0                   0.0   \n",
              "Waiting to Exhale (1995)                          0.0                   0.0   \n",
              "Father of the Bride Part II (1995)                0.0                   0.0   \n",
              "\n",
              "title                               Parallels (2015)  The Pirates (2014)  \n",
              "title                                                                     \n",
              "Toy Story (1995)                                 0.0            0.013277  \n",
              "Jumanji (1995)                                   0.0            0.006270  \n",
              "Grumpier Old Men (1995)                          0.0            0.000000  \n",
              "Waiting to Exhale (1995)                         0.0            0.000000  \n",
              "Father of the Bride Part II (1995)               0.0            0.000000  \n",
              "\n",
              "[5 rows x 19545 columns]"
            ],
            "text/html": [
              "\n",
              "  <div id=\"df-98ff8b37-7697-4677-a635-a667458b4ba0\" class=\"colab-df-container\">\n",
              "    <div>\n",
              "<style scoped>\n",
              "    .dataframe tbody tr th:only-of-type {\n",
              "        vertical-align: middle;\n",
              "    }\n",
              "\n",
              "    .dataframe tbody tr th {\n",
              "        vertical-align: top;\n",
              "    }\n",
              "\n",
              "    .dataframe thead th {\n",
              "        text-align: right;\n",
              "    }\n",
              "</style>\n",
              "<table border=\"1\" class=\"dataframe\">\n",
              "  <thead>\n",
              "    <tr style=\"text-align: right;\">\n",
              "      <th>title</th>\n",
              "      <th>Toy Story (1995)</th>\n",
              "      <th>Jumanji (1995)</th>\n",
              "      <th>Grumpier Old Men (1995)</th>\n",
              "      <th>Waiting to Exhale (1995)</th>\n",
              "      <th>Father of the Bride Part II (1995)</th>\n",
              "      <th>Heat (1995)</th>\n",
              "      <th>Sabrina (1995)</th>\n",
              "      <th>Tom and Huck (1995)</th>\n",
              "      <th>Sudden Death (1995)</th>\n",
              "      <th>GoldenEye (1995)</th>\n",
              "      <th>...</th>\n",
              "      <th>Santo vs. las lobas (1976)</th>\n",
              "      <th>Execution Squad (1972)</th>\n",
              "      <th>Get Hard (2015)</th>\n",
              "      <th>Hellgate (2011)</th>\n",
              "      <th>La liga no es cosa de hombres (1972)</th>\n",
              "      <th>Dinotopia: Quest for the Ruby Sunstone (2005)</th>\n",
              "      <th>Playground (2009)</th>\n",
              "      <th>Vietnam in HD (2011)</th>\n",
              "      <th>Parallels (2015)</th>\n",
              "      <th>The Pirates (2014)</th>\n",
              "    </tr>\n",
              "    <tr>\n",
              "      <th>title</th>\n",
              "      <th></th>\n",
              "      <th></th>\n",
              "      <th></th>\n",
              "      <th></th>\n",
              "      <th></th>\n",
              "      <th></th>\n",
              "      <th></th>\n",
              "      <th></th>\n",
              "      <th></th>\n",
              "      <th></th>\n",
              "      <th></th>\n",
              "      <th></th>\n",
              "      <th></th>\n",
              "      <th></th>\n",
              "      <th></th>\n",
              "      <th></th>\n",
              "      <th></th>\n",
              "      <th></th>\n",
              "      <th></th>\n",
              "      <th></th>\n",
              "      <th></th>\n",
              "    </tr>\n",
              "  </thead>\n",
              "  <tbody>\n",
              "    <tr>\n",
              "      <th>Toy Story (1995)</th>\n",
              "      <td>1.000000</td>\n",
              "      <td>0.064998</td>\n",
              "      <td>0.015458</td>\n",
              "      <td>0.003731</td>\n",
              "      <td>0.026791</td>\n",
              "      <td>0.007177</td>\n",
              "      <td>0.001084</td>\n",
              "      <td>0.030547</td>\n",
              "      <td>0.000772</td>\n",
              "      <td>0.007923</td>\n",
              "      <td>...</td>\n",
              "      <td>0.011363</td>\n",
              "      <td>0.001056</td>\n",
              "      <td>0.012319</td>\n",
              "      <td>0.000000</td>\n",
              "      <td>0.0</td>\n",
              "      <td>0.038200</td>\n",
              "      <td>0.0</td>\n",
              "      <td>0.0</td>\n",
              "      <td>0.0</td>\n",
              "      <td>0.013277</td>\n",
              "    </tr>\n",
              "    <tr>\n",
              "      <th>Jumanji (1995)</th>\n",
              "      <td>0.064998</td>\n",
              "      <td>1.000000</td>\n",
              "      <td>0.001309</td>\n",
              "      <td>0.042097</td>\n",
              "      <td>0.017822</td>\n",
              "      <td>0.000593</td>\n",
              "      <td>0.023073</td>\n",
              "      <td>0.077693</td>\n",
              "      <td>0.013997</td>\n",
              "      <td>0.002351</td>\n",
              "      <td>...</td>\n",
              "      <td>0.041536</td>\n",
              "      <td>0.000000</td>\n",
              "      <td>0.000000</td>\n",
              "      <td>0.012941</td>\n",
              "      <td>0.0</td>\n",
              "      <td>0.097744</td>\n",
              "      <td>0.0</td>\n",
              "      <td>0.0</td>\n",
              "      <td>0.0</td>\n",
              "      <td>0.006270</td>\n",
              "    </tr>\n",
              "    <tr>\n",
              "      <th>Grumpier Old Men (1995)</th>\n",
              "      <td>0.015458</td>\n",
              "      <td>0.001309</td>\n",
              "      <td>1.000000</td>\n",
              "      <td>0.036096</td>\n",
              "      <td>0.124356</td>\n",
              "      <td>0.000870</td>\n",
              "      <td>0.031252</td>\n",
              "      <td>0.000000</td>\n",
              "      <td>0.005531</td>\n",
              "      <td>0.012759</td>\n",
              "      <td>...</td>\n",
              "      <td>0.000000</td>\n",
              "      <td>0.000000</td>\n",
              "      <td>0.042826</td>\n",
              "      <td>0.000000</td>\n",
              "      <td>0.0</td>\n",
              "      <td>0.000000</td>\n",
              "      <td>0.0</td>\n",
              "      <td>0.0</td>\n",
              "      <td>0.0</td>\n",
              "      <td>0.000000</td>\n",
              "    </tr>\n",
              "    <tr>\n",
              "      <th>Waiting to Exhale (1995)</th>\n",
              "      <td>0.003731</td>\n",
              "      <td>0.042097</td>\n",
              "      <td>0.036096</td>\n",
              "      <td>1.000000</td>\n",
              "      <td>0.017325</td>\n",
              "      <td>0.001183</td>\n",
              "      <td>0.360625</td>\n",
              "      <td>0.000000</td>\n",
              "      <td>0.007523</td>\n",
              "      <td>0.007683</td>\n",
              "      <td>...</td>\n",
              "      <td>0.000000</td>\n",
              "      <td>0.065383</td>\n",
              "      <td>0.029124</td>\n",
              "      <td>0.000000</td>\n",
              "      <td>0.0</td>\n",
              "      <td>0.000000</td>\n",
              "      <td>0.0</td>\n",
              "      <td>0.0</td>\n",
              "      <td>0.0</td>\n",
              "      <td>0.000000</td>\n",
              "    </tr>\n",
              "    <tr>\n",
              "      <th>Father of the Bride Part II (1995)</th>\n",
              "      <td>0.026791</td>\n",
              "      <td>0.017822</td>\n",
              "      <td>0.124356</td>\n",
              "      <td>0.017325</td>\n",
              "      <td>1.000000</td>\n",
              "      <td>0.000552</td>\n",
              "      <td>0.047675</td>\n",
              "      <td>0.000000</td>\n",
              "      <td>0.003514</td>\n",
              "      <td>0.006429</td>\n",
              "      <td>...</td>\n",
              "      <td>0.017174</td>\n",
              "      <td>0.000000</td>\n",
              "      <td>0.027204</td>\n",
              "      <td>0.000000</td>\n",
              "      <td>0.0</td>\n",
              "      <td>0.018525</td>\n",
              "      <td>0.0</td>\n",
              "      <td>0.0</td>\n",
              "      <td>0.0</td>\n",
              "      <td>0.000000</td>\n",
              "    </tr>\n",
              "  </tbody>\n",
              "</table>\n",
              "<p>5 rows × 19545 columns</p>\n",
              "</div>\n",
              "    <div class=\"colab-df-buttons\">\n",
              "\n",
              "  <div class=\"colab-df-container\">\n",
              "    <button class=\"colab-df-convert\" onclick=\"convertToInteractive('df-98ff8b37-7697-4677-a635-a667458b4ba0')\"\n",
              "            title=\"Convert this dataframe to an interactive table.\"\n",
              "            style=\"display:none;\">\n",
              "\n",
              "  <svg xmlns=\"http://www.w3.org/2000/svg\" height=\"24px\" viewBox=\"0 -960 960 960\">\n",
              "    <path d=\"M120-120v-720h720v720H120Zm60-500h600v-160H180v160Zm220 220h160v-160H400v160Zm0 220h160v-160H400v160ZM180-400h160v-160H180v160Zm440 0h160v-160H620v160ZM180-180h160v-160H180v160Zm440 0h160v-160H620v160Z\"/>\n",
              "  </svg>\n",
              "    </button>\n",
              "\n",
              "  <style>\n",
              "    .colab-df-container {\n",
              "      display:flex;\n",
              "      gap: 12px;\n",
              "    }\n",
              "\n",
              "    .colab-df-convert {\n",
              "      background-color: #E8F0FE;\n",
              "      border: none;\n",
              "      border-radius: 50%;\n",
              "      cursor: pointer;\n",
              "      display: none;\n",
              "      fill: #1967D2;\n",
              "      height: 32px;\n",
              "      padding: 0 0 0 0;\n",
              "      width: 32px;\n",
              "    }\n",
              "\n",
              "    .colab-df-convert:hover {\n",
              "      background-color: #E2EBFA;\n",
              "      box-shadow: 0px 1px 2px rgba(60, 64, 67, 0.3), 0px 1px 3px 1px rgba(60, 64, 67, 0.15);\n",
              "      fill: #174EA6;\n",
              "    }\n",
              "\n",
              "    .colab-df-buttons div {\n",
              "      margin-bottom: 4px;\n",
              "    }\n",
              "\n",
              "    [theme=dark] .colab-df-convert {\n",
              "      background-color: #3B4455;\n",
              "      fill: #D2E3FC;\n",
              "    }\n",
              "\n",
              "    [theme=dark] .colab-df-convert:hover {\n",
              "      background-color: #434B5C;\n",
              "      box-shadow: 0px 1px 3px 1px rgba(0, 0, 0, 0.15);\n",
              "      filter: drop-shadow(0px 1px 2px rgba(0, 0, 0, 0.3));\n",
              "      fill: #FFFFFF;\n",
              "    }\n",
              "  </style>\n",
              "\n",
              "    <script>\n",
              "      const buttonEl =\n",
              "        document.querySelector('#df-98ff8b37-7697-4677-a635-a667458b4ba0 button.colab-df-convert');\n",
              "      buttonEl.style.display =\n",
              "        google.colab.kernel.accessAllowed ? 'block' : 'none';\n",
              "\n",
              "      async function convertToInteractive(key) {\n",
              "        const element = document.querySelector('#df-98ff8b37-7697-4677-a635-a667458b4ba0');\n",
              "        const dataTable =\n",
              "          await google.colab.kernel.invokeFunction('convertToInteractive',\n",
              "                                                    [key], {});\n",
              "        if (!dataTable) return;\n",
              "\n",
              "        const docLinkHtml = 'Like what you see? Visit the ' +\n",
              "          '<a target=\"_blank\" href=https://colab.research.google.com/notebooks/data_table.ipynb>data table notebook</a>'\n",
              "          + ' to learn more about interactive tables.';\n",
              "        element.innerHTML = '';\n",
              "        dataTable['output_type'] = 'display_data';\n",
              "        await google.colab.output.renderOutput(dataTable, element);\n",
              "        const docLink = document.createElement('div');\n",
              "        docLink.innerHTML = docLinkHtml;\n",
              "        element.appendChild(docLink);\n",
              "      }\n",
              "    </script>\n",
              "  </div>\n",
              "\n",
              "\n",
              "    <div id=\"df-312f907a-7739-47c4-9a30-2b5843b279b6\">\n",
              "      <button class=\"colab-df-quickchart\" onclick=\"quickchart('df-312f907a-7739-47c4-9a30-2b5843b279b6')\"\n",
              "                title=\"Suggest charts\"\n",
              "                style=\"display:none;\">\n",
              "\n",
              "<svg xmlns=\"http://www.w3.org/2000/svg\" height=\"24px\"viewBox=\"0 0 24 24\"\n",
              "     width=\"24px\">\n",
              "    <g>\n",
              "        <path d=\"M19 3H5c-1.1 0-2 .9-2 2v14c0 1.1.9 2 2 2h14c1.1 0 2-.9 2-2V5c0-1.1-.9-2-2-2zM9 17H7v-7h2v7zm4 0h-2V7h2v10zm4 0h-2v-4h2v4z\"/>\n",
              "    </g>\n",
              "</svg>\n",
              "      </button>\n",
              "\n",
              "<style>\n",
              "  .colab-df-quickchart {\n",
              "      --bg-color: #E8F0FE;\n",
              "      --fill-color: #1967D2;\n",
              "      --hover-bg-color: #E2EBFA;\n",
              "      --hover-fill-color: #174EA6;\n",
              "      --disabled-fill-color: #AAA;\n",
              "      --disabled-bg-color: #DDD;\n",
              "  }\n",
              "\n",
              "  [theme=dark] .colab-df-quickchart {\n",
              "      --bg-color: #3B4455;\n",
              "      --fill-color: #D2E3FC;\n",
              "      --hover-bg-color: #434B5C;\n",
              "      --hover-fill-color: #FFFFFF;\n",
              "      --disabled-bg-color: #3B4455;\n",
              "      --disabled-fill-color: #666;\n",
              "  }\n",
              "\n",
              "  .colab-df-quickchart {\n",
              "    background-color: var(--bg-color);\n",
              "    border: none;\n",
              "    border-radius: 50%;\n",
              "    cursor: pointer;\n",
              "    display: none;\n",
              "    fill: var(--fill-color);\n",
              "    height: 32px;\n",
              "    padding: 0;\n",
              "    width: 32px;\n",
              "  }\n",
              "\n",
              "  .colab-df-quickchart:hover {\n",
              "    background-color: var(--hover-bg-color);\n",
              "    box-shadow: 0 1px 2px rgba(60, 64, 67, 0.3), 0 1px 3px 1px rgba(60, 64, 67, 0.15);\n",
              "    fill: var(--button-hover-fill-color);\n",
              "  }\n",
              "\n",
              "  .colab-df-quickchart-complete:disabled,\n",
              "  .colab-df-quickchart-complete:disabled:hover {\n",
              "    background-color: var(--disabled-bg-color);\n",
              "    fill: var(--disabled-fill-color);\n",
              "    box-shadow: none;\n",
              "  }\n",
              "\n",
              "  .colab-df-spinner {\n",
              "    border: 2px solid var(--fill-color);\n",
              "    border-color: transparent;\n",
              "    border-bottom-color: var(--fill-color);\n",
              "    animation:\n",
              "      spin 1s steps(1) infinite;\n",
              "  }\n",
              "\n",
              "  @keyframes spin {\n",
              "    0% {\n",
              "      border-color: transparent;\n",
              "      border-bottom-color: var(--fill-color);\n",
              "      border-left-color: var(--fill-color);\n",
              "    }\n",
              "    20% {\n",
              "      border-color: transparent;\n",
              "      border-left-color: var(--fill-color);\n",
              "      border-top-color: var(--fill-color);\n",
              "    }\n",
              "    30% {\n",
              "      border-color: transparent;\n",
              "      border-left-color: var(--fill-color);\n",
              "      border-top-color: var(--fill-color);\n",
              "      border-right-color: var(--fill-color);\n",
              "    }\n",
              "    40% {\n",
              "      border-color: transparent;\n",
              "      border-right-color: var(--fill-color);\n",
              "      border-top-color: var(--fill-color);\n",
              "    }\n",
              "    60% {\n",
              "      border-color: transparent;\n",
              "      border-right-color: var(--fill-color);\n",
              "    }\n",
              "    80% {\n",
              "      border-color: transparent;\n",
              "      border-right-color: var(--fill-color);\n",
              "      border-bottom-color: var(--fill-color);\n",
              "    }\n",
              "    90% {\n",
              "      border-color: transparent;\n",
              "      border-bottom-color: var(--fill-color);\n",
              "    }\n",
              "  }\n",
              "</style>\n",
              "\n",
              "      <script>\n",
              "        async function quickchart(key) {\n",
              "          const quickchartButtonEl =\n",
              "            document.querySelector('#' + key + ' button');\n",
              "          quickchartButtonEl.disabled = true;  // To prevent multiple clicks.\n",
              "          quickchartButtonEl.classList.add('colab-df-spinner');\n",
              "          try {\n",
              "            const charts = await google.colab.kernel.invokeFunction(\n",
              "                'suggestCharts', [key], {});\n",
              "          } catch (error) {\n",
              "            console.error('Error during call to suggestCharts:', error);\n",
              "          }\n",
              "          quickchartButtonEl.classList.remove('colab-df-spinner');\n",
              "          quickchartButtonEl.classList.add('colab-df-quickchart-complete');\n",
              "        }\n",
              "        (() => {\n",
              "          let quickchartButtonEl =\n",
              "            document.querySelector('#df-312f907a-7739-47c4-9a30-2b5843b279b6 button');\n",
              "          quickchartButtonEl.style.display =\n",
              "            google.colab.kernel.accessAllowed ? 'block' : 'none';\n",
              "        })();\n",
              "      </script>\n",
              "    </div>\n",
              "\n",
              "    </div>\n",
              "  </div>\n"
            ],
            "application/vnd.google.colaboratory.intrinsic+json": {
              "type": "dataframe",
              "variable_name": "cosine_sim_df"
            }
          },
          "metadata": {},
          "execution_count": 24
        }
      ]
    },
    {
      "cell_type": "markdown",
      "source": [
        "- Kode tersebut menghitung kemiripan antar film berdasarkan representasi TF-IDF dari genre dan tag, menggunakan cosine similarity.\n",
        "- Diagonal (1.000000): Setiap film memiliki kemiripan sempurna dengan dirinya sendiri.\n",
        "\n",
        "- Nilai Off-Diagonal:\n",
        "  * Toy Story vs Jumanji: 0.064998 → Kemiripan rendah (meski sama-sama film anak, genre/tag-nya berbeda).\n",
        "  * Waiting to Exhale vs Sabrina: 0.360625 → Kemiripan cukup tinggi (mungkin karena genre romance/drama).\n",
        "  * Nilai 0.000000: Tidak ada kemiripan (tidak ada term yang sama di TF-IDF)."
      ],
      "metadata": {
        "id": "3yGPOQsnqmrS"
      }
    },
    {
      "cell_type": "markdown",
      "source": [
        "## Mendapatkan Rekomendasi"
      ],
      "metadata": {
        "id": "utX8HfNUDOjF"
      }
    },
    {
      "cell_type": "code",
      "source": [
        "def movie_recommendations(title, k=5):\n",
        "    if title not in cosine_sim_df:\n",
        "        return f\"Movie '{title}' not found.\"\n",
        "    sim_scores = cosine_sim_df[title].sort_values(ascending=False).iloc[1:k+1]\n",
        "    return sim_scores\n",
        "\n",
        "print(\"Film yang direkomendasikan berdasarkan content pilihan:\")\n",
        "movie_recommendations(\"Toy Story (1995)\")"
      ],
      "metadata": {
        "id": "Fq9yhrL6DMgk",
        "colab": {
          "base_uri": "https://localhost:8080/",
          "height": 290
        },
        "outputId": "4ba43cda-335f-4c27-935c-be9180fe1225"
      },
      "execution_count": null,
      "outputs": [
        {
          "output_type": "stream",
          "name": "stdout",
          "text": [
            "Film yang direkomendasikan berdasarkan content pilihan:\n"
          ]
        },
        {
          "output_type": "execute_result",
          "data": {
            "text/plain": [
              "title\n",
              "Toy Story 2 (1999)       0.925746\n",
              "Bug's Life, A (1998)     0.825143\n",
              "Ice Age (2002)           0.759788\n",
              "Monsters, Inc. (2001)    0.747811\n",
              "Toy Story 3 (2010)       0.720269\n",
              "Name: Toy Story (1995), dtype: float64"
            ],
            "text/html": [
              "<div>\n",
              "<style scoped>\n",
              "    .dataframe tbody tr th:only-of-type {\n",
              "        vertical-align: middle;\n",
              "    }\n",
              "\n",
              "    .dataframe tbody tr th {\n",
              "        vertical-align: top;\n",
              "    }\n",
              "\n",
              "    .dataframe thead th {\n",
              "        text-align: right;\n",
              "    }\n",
              "</style>\n",
              "<table border=\"1\" class=\"dataframe\">\n",
              "  <thead>\n",
              "    <tr style=\"text-align: right;\">\n",
              "      <th></th>\n",
              "      <th>Toy Story (1995)</th>\n",
              "    </tr>\n",
              "    <tr>\n",
              "      <th>title</th>\n",
              "      <th></th>\n",
              "    </tr>\n",
              "  </thead>\n",
              "  <tbody>\n",
              "    <tr>\n",
              "      <th>Toy Story 2 (1999)</th>\n",
              "      <td>0.925746</td>\n",
              "    </tr>\n",
              "    <tr>\n",
              "      <th>Bug's Life, A (1998)</th>\n",
              "      <td>0.825143</td>\n",
              "    </tr>\n",
              "    <tr>\n",
              "      <th>Ice Age (2002)</th>\n",
              "      <td>0.759788</td>\n",
              "    </tr>\n",
              "    <tr>\n",
              "      <th>Monsters, Inc. (2001)</th>\n",
              "      <td>0.747811</td>\n",
              "    </tr>\n",
              "    <tr>\n",
              "      <th>Toy Story 3 (2010)</th>\n",
              "      <td>0.720269</td>\n",
              "    </tr>\n",
              "  </tbody>\n",
              "</table>\n",
              "</div><br><label><b>dtype:</b> float64</label>"
            ]
          },
          "metadata": {},
          "execution_count": 25
        }
      ]
    },
    {
      "cell_type": "markdown",
      "source": [
        "**Insight:**\n",
        "- Rekomendasi sangat relevan karena semua film yang direkomendasikan adalah animasi dari genre yang sama (family/animasi) dan Toy Story 2 sebagai sekuel langsung mendapatkan skor tertinggi (0.936), yang sangat masuk akal.\n",
        "- Skor kesamaan cukup tinggi (>0.76) untuk semua rekomendasi yang menunjukkan bahwa film-film ini memiliki banyak kesamaan dengan Toy Story. Namun ada penurunan skor yang gradual dari rekomendasi pertama ke kelima yang menunjukkan variasi dalam tingkat kesamaan."
      ],
      "metadata": {
        "id": "knIlLkvnJcur"
      }
    },
    {
      "cell_type": "markdown",
      "source": [
        "## Evaluasi Precision@K, Recall@K, dan NDCG@K"
      ],
      "metadata": {
        "id": "ny9uo-7mHZII"
      }
    },
    {
      "cell_type": "code",
      "source": [
        "import numpy as np\n",
        "\n",
        "def ndcg_at_k(relevance_scores, k):\n",
        "    dcg = 0.0\n",
        "    for i in range(k):\n",
        "        rel = relevance_scores[i]\n",
        "        dcg += (2**rel - 1) / np.log2(i + 2)\n",
        "    ideal = sorted(relevance_scores, reverse=True)\n",
        "    idcg = 0.0\n",
        "    for i in range(min(k, len(ideal))):\n",
        "        idcg += (2**ideal[i] - 1) / np.log2(i + 2)\n",
        "    return dcg / idcg if idcg > 0 else 0.0\n",
        "\n",
        "def evaluate_cbf_average(k=5, n_users=50):\n",
        "    precision_list = []\n",
        "    recall_list = []\n",
        "    ndcg_list = []\n",
        "\n",
        "    users = ratings['userId'].drop_duplicates().sample(n_users, random_state=42)\n",
        "\n",
        "    for user_id in users:\n",
        "        user_movies = ratings[ratings['userId'] == user_id]\n",
        "        top_rated = user_movies[user_movies['rating'] >= 4.0]['movieId'].tolist()\n",
        "        if not top_rated:\n",
        "            continue\n",
        "\n",
        "        sample_movie_id = top_rated[0]\n",
        "        title_row = movies_tags[movies_tags['movieId'] == sample_movie_id]\n",
        "        if title_row.empty:\n",
        "            continue\n",
        "\n",
        "        sample_title = title_row['title'].values[0]\n",
        "        recs = movie_recommendations(sample_title, k=k)\n",
        "        rec_titles = recs.index.tolist()\n",
        "\n",
        "        watched_titles = movies_tags[movies_tags['movieId'].isin(user_movies['movieId'])]['title'].tolist()\n",
        "        relevance = [1 if title in watched_titles else 0 for title in rec_titles]\n",
        "\n",
        "        precision = sum(relevance) / k\n",
        "        recall = sum(relevance) / len(watched_titles) if watched_titles else 0\n",
        "        ndcg = ndcg_at_k(relevance, k)\n",
        "\n",
        "        precision_list.append(precision)\n",
        "        recall_list.append(recall)\n",
        "        ndcg_list.append(ndcg)\n",
        "\n",
        "    print(f\"Evaluasi rata-rata untuk {len(precision_list)} user:\")\n",
        "    print(f\"Average Precision@{k}: {np.mean(precision_list):.4f}\")\n",
        "    print(f\"Average Recall@{k}: {np.mean(recall_list):.4f}\")\n",
        "    print(f\"Average NDCG@{k}: {np.mean(ndcg_list):.4f}\")"
      ],
      "metadata": {
        "id": "aLEHUaSvLi7G"
      },
      "execution_count": null,
      "outputs": []
    },
    {
      "cell_type": "code",
      "source": [
        "evaluate_cbf_average(k=10, n_users=100)"
      ],
      "metadata": {
        "colab": {
          "base_uri": "https://localhost:8080/"
        },
        "id": "955Ae3COLlLy",
        "outputId": "4787a894-932e-4bd4-ba72-71604f281875"
      },
      "execution_count": null,
      "outputs": [
        {
          "output_type": "stream",
          "name": "stdout",
          "text": [
            "Evaluasi rata-rata untuk 90 user:\n",
            "Average Precision@10: 0.0044\n",
            "Average Recall@10: 0.0061\n",
            "Average NDCG@10: 0.0171\n"
          ]
        }
      ]
    },
    {
      "cell_type": "markdown",
      "source": [
        "**Insight:**\n",
        "- Average Precision@10 bernilai 0.0044 yang artinya dari 10 film yang direkomendasikan, hanya sekitar 0.044 (4.4%) yang pernah ditonton oleh user.\n",
        "- Average Recall@10 bernilai 0.0061 yang artinya dari semua film yang pernah ditonton oleh user, hanya sekitar 0.61% yang berhasil direkomendasikan oleh sistem (dalam 10 film teratas).\n",
        "- Average NDCG@10 bernilsi 0.0171 yang artinya urutan rekomendasi kamu hampir tidak relevan dengan minat user. Nilai NDCG ideal = 1.0 jika semua film yang direkomendasikan adalah film yang disukai user, diurutkan dengan baik.\n",
        "\n",
        "Berdasarkan hasil di atas, dapat disimpulkan bahwa sistem Content-Based Filtering memang tidak dibangun untuk mencerminkan histori secara langsung karena tujuannya adalah untuk menemukan film baru yang mirip dengan yang disukai user sebelumnya bukan mereplikasi histori."
      ],
      "metadata": {
        "id": "jP7YT5XXMNl2"
      }
    },
    {
      "cell_type": "markdown",
      "source": [
        "# Model Development dengan Collaborative Filtering"
      ],
      "metadata": {
        "id": "SkEdr0vwDaZm"
      }
    },
    {
      "cell_type": "markdown",
      "source": [
        "Collaborative Filtering bekerja dengan memanfaatkan perilaku pengguna lain yang mirip. Misalnya, jika Anda dan User A sama-sama menyukai Inception dan The Dark Knight, lalu User A menyukai Tenet, sistem akan merekomendasikan Tenet kepada Anda—tanpa perlu tahu genre filmnya. Kelebihannya: bisa menemukan pola tak terduga, tapi rentan terhadap sparsity data dan cold start."
      ],
      "metadata": {
        "id": "BDBT9vd-suOO"
      }
    },
    {
      "cell_type": "markdown",
      "source": [
        "## Proses Training"
      ],
      "metadata": {
        "id": "SNd63v_RhEI7"
      }
    },
    {
      "cell_type": "code",
      "source": [
        "class RecommenderNet(tf.keras.Model):\n",
        "    def __init__(self, num_users, num_movies, embedding_size=32):\n",
        "        super().__init__()\n",
        "        initializer = tf.keras.initializers.GlorotNormal()\n",
        "\n",
        "        self.user_embedding = layers.Embedding(\n",
        "            num_users, embedding_size,\n",
        "            embeddings_initializer=initializer,\n",
        "            embeddings_regularizer=tf.keras.regularizers.l2(1e-6))\n",
        "\n",
        "        self.user_bias = layers.Embedding(num_users, 1)\n",
        "\n",
        "        self.movie_embedding = layers.Embedding(\n",
        "            num_movies, embedding_size,\n",
        "            embeddings_initializer=initializer,\n",
        "            embeddings_regularizer=tf.keras.regularizers.l2(1e-6))\n",
        "\n",
        "        self.movie_bias = layers.Embedding(num_movies, 1)\n",
        "\n",
        "    def call(self, inputs):\n",
        "        user_vec = self.user_embedding(inputs[:, 0])\n",
        "        movie_vec = self.movie_embedding(inputs[:, 1])\n",
        "        user_bias = self.user_bias(inputs[:, 0])\n",
        "        movie_bias = self.movie_bias(inputs[:, 1])\n",
        "\n",
        "        dot = tf.reduce_sum(user_vec * movie_vec, axis=1, keepdims=True)\n",
        "        return tf.nn.sigmoid(dot + user_bias + movie_bias)\n",
        "\n",
        "model = RecommenderNet(len(user_ids), len(movie_ids), embedding_size=32)\n",
        "\n",
        "optimizer = tf.keras.optimizers.Adam(\n",
        "    learning_rate=0.001,\n",
        "    beta_1=0.9,\n",
        "    beta_2=0.999,\n",
        "    epsilon=1e-07,\n",
        "    clipnorm=1.0\n",
        ")\n",
        "\n",
        "model.compile(\n",
        "    optimizer=optimizer,\n",
        "    loss='binary_crossentropy',\n",
        "    metrics=[tf.keras.metrics.RootMeanSquaredError()]\n",
        ")\n",
        "\n",
        "callbacks = [\n",
        "    tf.keras.callbacks.EarlyStopping(patience=3, restore_best_weights=True),\n",
        "    tf.keras.callbacks.ReduceLROnPlateau(monitor='val_loss', factor=0.5, patience=2)\n",
        "]\n",
        "\n",
        "history = model.fit(\n",
        "    train_ds,\n",
        "    validation_data=val_ds,\n",
        "    epochs=10,\n",
        "    callbacks=callbacks,\n",
        "    verbose=1\n",
        ")"
      ],
      "metadata": {
        "id": "-Z_gMLI2hBux",
        "colab": {
          "base_uri": "https://localhost:8080/"
        },
        "outputId": "9e00aa6d-4576-4561-e24d-1fab94467a41"
      },
      "execution_count": null,
      "outputs": [
        {
          "output_type": "stream",
          "name": "stdout",
          "text": [
            "Epoch 1/10\n",
            "\u001b[1m12500/12500\u001b[0m \u001b[32m━━━━━━━━━━━━━━━━━━━━\u001b[0m\u001b[37m\u001b[0m \u001b[1m1004s\u001b[0m 80ms/step - loss: 0.6419 - root_mean_squared_error: 0.2418 - val_loss: 0.6049 - val_root_mean_squared_error: 0.2025 - learning_rate: 0.0010\n",
            "Epoch 2/10\n",
            "\u001b[1m12500/12500\u001b[0m \u001b[32m━━━━━━━━━━━━━━━━━━━━\u001b[0m\u001b[37m\u001b[0m \u001b[1m1039s\u001b[0m 80ms/step - loss: 0.6010 - root_mean_squared_error: 0.1984 - val_loss: 0.5996 - val_root_mean_squared_error: 0.1975 - learning_rate: 0.0010\n",
            "Epoch 3/10\n",
            "\u001b[1m12500/12500\u001b[0m \u001b[32m━━━━━━━━━━━━━━━━━━━━\u001b[0m\u001b[37m\u001b[0m \u001b[1m986s\u001b[0m 79ms/step - loss: 0.5950 - root_mean_squared_error: 0.1926 - val_loss: 0.5977 - val_root_mean_squared_error: 0.1960 - learning_rate: 0.0010\n",
            "Epoch 4/10\n",
            "\u001b[1m12500/12500\u001b[0m \u001b[32m━━━━━━━━━━━━━━━━━━━━\u001b[0m\u001b[37m\u001b[0m \u001b[1m1016s\u001b[0m 81ms/step - loss: 0.5919 - root_mean_squared_error: 0.1897 - val_loss: 0.5969 - val_root_mean_squared_error: 0.1954 - learning_rate: 0.0010\n",
            "Epoch 5/10\n",
            "\u001b[1m12500/12500\u001b[0m \u001b[32m━━━━━━━━━━━━━━━━━━━━\u001b[0m\u001b[37m\u001b[0m \u001b[1m1012s\u001b[0m 81ms/step - loss: 0.5899 - root_mean_squared_error: 0.1878 - val_loss: 0.5966 - val_root_mean_squared_error: 0.1952 - learning_rate: 0.0010\n",
            "Epoch 6/10\n",
            "\u001b[1m12500/12500\u001b[0m \u001b[32m━━━━━━━━━━━━━━━━━━━━\u001b[0m\u001b[37m\u001b[0m \u001b[1m993s\u001b[0m 79ms/step - loss: 0.5886 - root_mean_squared_error: 0.1865 - val_loss: 0.5965 - val_root_mean_squared_error: 0.1951 - learning_rate: 0.0010\n",
            "Epoch 7/10\n",
            "\u001b[1m12500/12500\u001b[0m \u001b[32m━━━━━━━━━━━━━━━━━━━━\u001b[0m\u001b[37m\u001b[0m \u001b[1m995s\u001b[0m 80ms/step - loss: 0.5877 - root_mean_squared_error: 0.1856 - val_loss: 0.5966 - val_root_mean_squared_error: 0.1952 - learning_rate: 0.0010\n",
            "Epoch 8/10\n",
            "\u001b[1m12500/12500\u001b[0m \u001b[32m━━━━━━━━━━━━━━━━━━━━\u001b[0m\u001b[37m\u001b[0m \u001b[1m981s\u001b[0m 78ms/step - loss: 0.5861 - root_mean_squared_error: 0.1843 - val_loss: 0.5960 - val_root_mean_squared_error: 0.1951 - learning_rate: 5.0000e-04\n",
            "Epoch 9/10\n",
            "\u001b[1m12500/12500\u001b[0m \u001b[32m━━━━━━━━━━━━━━━━━━━━\u001b[0m\u001b[37m\u001b[0m \u001b[1m1018s\u001b[0m 81ms/step - loss: 0.5853 - root_mean_squared_error: 0.1835 - val_loss: 0.5960 - val_root_mean_squared_error: 0.1951 - learning_rate: 5.0000e-04\n",
            "Epoch 10/10\n",
            "\u001b[1m12500/12500\u001b[0m \u001b[32m━━━━━━━━━━━━━━━━━━━━\u001b[0m\u001b[37m\u001b[0m \u001b[1m1076s\u001b[0m 86ms/step - loss: 0.5848 - root_mean_squared_error: 0.1830 - val_loss: 0.5961 - val_root_mean_squared_error: 0.1951 - learning_rate: 5.0000e-04\n"
          ]
        }
      ]
    },
    {
      "cell_type": "markdown",
      "source": [
        "## Visualisasi Metrik"
      ],
      "metadata": {
        "id": "MTzvWHzohOY3"
      }
    },
    {
      "cell_type": "code",
      "source": [
        "def plot_training_history(history):\n",
        "    plt.figure(figsize=(12, 5))\n",
        "\n",
        "    plt.subplot(1, 2, 1)\n",
        "    plt.plot(history.history['loss'], label='Training Loss')\n",
        "    plt.plot(history.history['val_loss'], label='Validation Loss')\n",
        "    plt.title('Training and Validation Loss')\n",
        "    plt.xlabel('Epoch')\n",
        "    plt.ylabel('Binary Crossentropy Loss')\n",
        "    plt.legend()\n",
        "\n",
        "    plt.subplot(1, 2, 2)\n",
        "    plt.plot(history.history['root_mean_squared_error'], label='Training RMSE')\n",
        "    plt.plot(history.history['val_root_mean_squared_error'], label='Validation RMSE')\n",
        "    plt.title('Training and Validation RMSE')\n",
        "    plt.xlabel('Epoch')\n",
        "    plt.ylabel('RMSE')\n",
        "    plt.legend()\n",
        "\n",
        "    plt.tight_layout()\n",
        "    plt.show()\n",
        "\n",
        "if __name__ == \"__main__\":\n",
        "    plot_training_history(history)"
      ],
      "metadata": {
        "colab": {
          "base_uri": "https://localhost:8080/",
          "height": 404
        },
        "id": "RvN3EJdzAvY2",
        "outputId": "9cb26536-bce9-42a2-9e0a-3753c5547105"
      },
      "execution_count": null,
      "outputs": [
        {
          "output_type": "display_data",
          "data": {
            "text/plain": [
              "<Figure size 1200x500 with 2 Axes>"
            ],
            "image/png": "[encoded data removed]"
          },
          "metadata": {}
        }
      ]
    },
    {
      "cell_type": "markdown",
      "source": [
        "**Insight:**\n",
        "- Epoch 0 hingga 1 mengalami penurunan loss yang tajam yang menunjukkan model belajar dengan cepat pada awal pelatihan. Epoch 2 hingga 5 penurunan loss menjadi lebih landai (melambat) yang menunjukkan model mulai mencapai stabilisasi. Dan pada epoch 6 hingga 9 training Loss terus menurun sedikit demi sedikit, validation loss mulai stagnan bahkan cenderung datar pada level sekitar 0.596.\n",
        "- Validation loss tidak mengalami kenaikan yang signifikan, tidak ada overfitting, tapi juga tidak banyak perbaikan setelah epoch ke-5 dan ini menandakan bahwa model sudah mencapai titik optimal relatif terhadap kompleksitas dan jumlah data yang digunakan.\n",
        "- RMSE Train menurun dari > 0.22 ke ~0.183 secara konsisten yang menunjukkan peningkatan akurasi prediksi pada data training. RMSE Val menurun dari ~0.202 ke ~0.195 dan kemudian stagnan setelah epoch ke-4.\n",
        "- Penurunan RMSE menunjukkan bahwa model semakin baik dalam memprediksi nilai rating yang mendekati aktual. Gap kecil antara Training dan Validation RMSE menunjukkan bahwa model tidak mengalami overfitting dan generalisasi cukup baik terhadap data baru."
      ],
      "metadata": {
        "id": "z92lU8xSKl81"
      }
    },
    {
      "cell_type": "markdown",
      "source": [
        "## Mendapatkan Rekomendasi"
      ],
      "metadata": {
        "id": "dgRSGQnNiZty"
      }
    },
    {
      "cell_type": "code",
      "source": [
        "def show_recommendations(user_id, n=10):\n",
        "    if user_id not in user_to_idx:\n",
        "        print(f\"User {user_id} tidak ditemukan\")\n",
        "        return\n",
        "\n",
        "    watched = ratings[ratings['userId'] == user_id]['movieId'].unique()\n",
        "    unwatched = list(set(movie_ids) - set(watched))\n",
        "\n",
        "    user_array = np.array([user_to_idx[user_id]] * len(unwatched))\n",
        "    movie_array = np.array([movie_to_idx[m] for m in unwatched])\n",
        "    input_array = np.column_stack((user_array, movie_array))\n",
        "\n",
        "    ratings_pred = model.predict(input_array, batch_size=1024, verbose=0).flatten()\n",
        "    ratings_pred = ratings_pred * (max_rating - min_rating) + min_rating\n",
        "\n",
        "    recommendations = pd.DataFrame({\n",
        "        'movieId': unwatched,\n",
        "        'predicted_rating': ratings_pred\n",
        "    }).merge(movie, on='movieId')\n",
        "\n",
        "    print(f\"\\nTop {n} Rekomendasi untuk User {user_id}:\")\n",
        "    display(recommendations.nlargest(n, 'predicted_rating')[['title', 'genres', 'predicted_rating']])\n",
        "\n",
        "sample_user = ratings['userId'].sample(1).iloc[0]\n",
        "show_recommendations(sample_user)"
      ],
      "metadata": {
        "colab": {
          "base_uri": "https://localhost:8080/",
          "height": 398
        },
        "id": "LLXq10hxAw0N",
        "outputId": "bd92612e-7143-45ba-818b-8882a17fedba"
      },
      "execution_count": null,
      "outputs": [
        {
          "output_type": "stream",
          "name": "stdout",
          "text": [
            "\n",
            "Top 10 Rekomendasi untuk User 136903:\n"
          ]
        },
        {
          "output_type": "display_data",
          "data": {
            "text/plain": [
              "                                                  title  \\\n",
              "316                    Shawshank Redemption, The (1994)   \n",
              "665              World of Apu, The (Apur Sansar) (1959)   \n",
              "8696                                      Cosmos (1980)   \n",
              "2849  Children of Paradise (Les enfants du paradis) ...   \n",
              "2287    Nights of Cabiria (Notti di Cabiria, Le) (1957)   \n",
              "3354                            Double Indemnity (1944)   \n",
              "6879  Passion of Joan of Arc, The (Passion de Jeanne...   \n",
              "664    Song of the Little Road (Pather Panchali) (1955)   \n",
              "49                           Usual Suspects, The (1995)   \n",
              "851                               Godfather, The (1972)   \n",
              "\n",
              "                      genres  predicted_rating  \n",
              "316              Crime|Drama          4.148845  \n",
              "665                    Drama          4.102694  \n",
              "8696             Documentary          4.090828  \n",
              "2849           Drama|Romance          4.050789  \n",
              "2287                   Drama          4.043172  \n",
              "3354   Crime|Drama|Film-Noir          4.040033  \n",
              "6879                   Drama          4.037985  \n",
              "664                    Drama          4.027080  \n",
              "49    Crime|Mystery|Thriller          4.024944  \n",
              "851              Crime|Drama          4.020790  "
            ],
            "text/html": [
              "\n",
              "  <div id=\"df-8f4fae69-046c-464c-8180-56e4ed43fb3e\" class=\"colab-df-container\">\n",
              "    <div>\n",
              "<style scoped>\n",
              "    .dataframe tbody tr th:only-of-type {\n",
              "        vertical-align: middle;\n",
              "    }\n",
              "\n",
              "    .dataframe tbody tr th {\n",
              "        vertical-align: top;\n",
              "    }\n",
              "\n",
              "    .dataframe thead th {\n",
              "        text-align: right;\n",
              "    }\n",
              "</style>\n",
              "<table border=\"1\" class=\"dataframe\">\n",
              "  <thead>\n",
              "    <tr style=\"text-align: right;\">\n",
              "      <th></th>\n",
              "      <th>title</th>\n",
              "      <th>genres</th>\n",
              "      <th>predicted_rating</th>\n",
              "    </tr>\n",
              "  </thead>\n",
              "  <tbody>\n",
              "    <tr>\n",
              "      <th>316</th>\n",
              "      <td>Shawshank Redemption, The (1994)</td>\n",
              "      <td>Crime|Drama</td>\n",
              "      <td>4.148845</td>\n",
              "    </tr>\n",
              "    <tr>\n",
              "      <th>665</th>\n",
              "      <td>World of Apu, The (Apur Sansar) (1959)</td>\n",
              "      <td>Drama</td>\n",
              "      <td>4.102694</td>\n",
              "    </tr>\n",
              "    <tr>\n",
              "      <th>8696</th>\n",
              "      <td>Cosmos (1980)</td>\n",
              "      <td>Documentary</td>\n",
              "      <td>4.090828</td>\n",
              "    </tr>\n",
              "    <tr>\n",
              "      <th>2849</th>\n",
              "      <td>Children of Paradise (Les enfants du paradis) ...</td>\n",
              "      <td>Drama|Romance</td>\n",
              "      <td>4.050789</td>\n",
              "    </tr>\n",
              "    <tr>\n",
              "      <th>2287</th>\n",
              "      <td>Nights of Cabiria (Notti di Cabiria, Le) (1957)</td>\n",
              "      <td>Drama</td>\n",
              "      <td>4.043172</td>\n",
              "    </tr>\n",
              "    <tr>\n",
              "      <th>3354</th>\n",
              "      <td>Double Indemnity (1944)</td>\n",
              "      <td>Crime|Drama|Film-Noir</td>\n",
              "      <td>4.040033</td>\n",
              "    </tr>\n",
              "    <tr>\n",
              "      <th>6879</th>\n",
              "      <td>Passion of Joan of Arc, The (Passion de Jeanne...</td>\n",
              "      <td>Drama</td>\n",
              "      <td>4.037985</td>\n",
              "    </tr>\n",
              "    <tr>\n",
              "      <th>664</th>\n",
              "      <td>Song of the Little Road (Pather Panchali) (1955)</td>\n",
              "      <td>Drama</td>\n",
              "      <td>4.027080</td>\n",
              "    </tr>\n",
              "    <tr>\n",
              "      <th>49</th>\n",
              "      <td>Usual Suspects, The (1995)</td>\n",
              "      <td>Crime|Mystery|Thriller</td>\n",
              "      <td>4.024944</td>\n",
              "    </tr>\n",
              "    <tr>\n",
              "      <th>851</th>\n",
              "      <td>Godfather, The (1972)</td>\n",
              "      <td>Crime|Drama</td>\n",
              "      <td>4.020790</td>\n",
              "    </tr>\n",
              "  </tbody>\n",
              "</table>\n",
              "</div>\n",
              "    <div class=\"colab-df-buttons\">\n",
              "\n",
              "  <div class=\"colab-df-container\">\n",
              "    <button class=\"colab-df-convert\" onclick=\"convertToInteractive('df-8f4fae69-046c-464c-8180-56e4ed43fb3e')\"\n",
              "            title=\"Convert this dataframe to an interactive table.\"\n",
              "            style=\"display:none;\">\n",
              "\n",
              "  <svg xmlns=\"http://www.w3.org/2000/svg\" height=\"24px\" viewBox=\"0 -960 960 960\">\n",
              "    <path d=\"M120-120v-720h720v720H120Zm60-500h600v-160H180v160Zm220 220h160v-160H400v160Zm0 220h160v-160H400v160ZM180-400h160v-160H180v160Zm440 0h160v-160H620v160ZM180-180h160v-160H180v160Zm440 0h160v-160H620v160Z\"/>\n",
              "  </svg>\n",
              "    </button>\n",
              "\n",
              "  <style>\n",
              "    .colab-df-container {\n",
              "      display:flex;\n",
              "      gap: 12px;\n",
              "    }\n",
              "\n",
              "    .colab-df-convert {\n",
              "      background-color: #E8F0FE;\n",
              "      border: none;\n",
              "      border-radius: 50%;\n",
              "      cursor: pointer;\n",
              "      display: none;\n",
              "      fill: #1967D2;\n",
              "      height: 32px;\n",
              "      padding: 0 0 0 0;\n",
              "      width: 32px;\n",
              "    }\n",
              "\n",
              "    .colab-df-convert:hover {\n",
              "      background-color: #E2EBFA;\n",
              "      box-shadow: 0px 1px 2px rgba(60, 64, 67, 0.3), 0px 1px 3px 1px rgba(60, 64, 67, 0.15);\n",
              "      fill: #174EA6;\n",
              "    }\n",
              "\n",
              "    .colab-df-buttons div {\n",
              "      margin-bottom: 4px;\n",
              "    }\n",
              "\n",
              "    [theme=dark] .colab-df-convert {\n",
              "      background-color: #3B4455;\n",
              "      fill: #D2E3FC;\n",
              "    }\n",
              "\n",
              "    [theme=dark] .colab-df-convert:hover {\n",
              "      background-color: #434B5C;\n",
              "      box-shadow: 0px 1px 3px 1px rgba(0, 0, 0, 0.15);\n",
              "      filter: drop-shadow(0px 1px 2px rgba(0, 0, 0, 0.3));\n",
              "      fill: #FFFFFF;\n",
              "    }\n",
              "  </style>\n",
              "\n",
              "    <script>\n",
              "      const buttonEl =\n",
              "        document.querySelector('#df-8f4fae69-046c-464c-8180-56e4ed43fb3e button.colab-df-convert');\n",
              "      buttonEl.style.display =\n",
              "        google.colab.kernel.accessAllowed ? 'block' : 'none';\n",
              "\n",
              "      async function convertToInteractive(key) {\n",
              "        const element = document.querySelector('#df-8f4fae69-046c-464c-8180-56e4ed43fb3e');\n",
              "        const dataTable =\n",
              "          await google.colab.kernel.invokeFunction('convertToInteractive',\n",
              "                                                    [key], {});\n",
              "        if (!dataTable) return;\n",
              "\n",
              "        const docLinkHtml = 'Like what you see? Visit the ' +\n",
              "          '<a target=\"_blank\" href=https://colab.research.google.com/notebooks/data_table.ipynb>data table notebook</a>'\n",
              "          + ' to learn more about interactive tables.';\n",
              "        element.innerHTML = '';\n",
              "        dataTable['output_type'] = 'display_data';\n",
              "        await google.colab.output.renderOutput(dataTable, element);\n",
              "        const docLink = document.createElement('div');\n",
              "        docLink.innerHTML = docLinkHtml;\n",
              "        element.appendChild(docLink);\n",
              "      }\n",
              "    </script>\n",
              "  </div>\n",
              "\n",
              "\n",
              "    <div id=\"df-a66ac0dd-d171-4640-aa7f-29753d0aec1a\">\n",
              "      <button class=\"colab-df-quickchart\" onclick=\"quickchart('df-a66ac0dd-d171-4640-aa7f-29753d0aec1a')\"\n",
              "                title=\"Suggest charts\"\n",
              "                style=\"display:none;\">\n",
              "\n",
              "<svg xmlns=\"http://www.w3.org/2000/svg\" height=\"24px\"viewBox=\"0 0 24 24\"\n",
              "     width=\"24px\">\n",
              "    <g>\n",
              "        <path d=\"M19 3H5c-1.1 0-2 .9-2 2v14c0 1.1.9 2 2 2h14c1.1 0 2-.9 2-2V5c0-1.1-.9-2-2-2zM9 17H7v-7h2v7zm4 0h-2V7h2v10zm4 0h-2v-4h2v4z\"/>\n",
              "    </g>\n",
              "</svg>\n",
              "      </button>\n",
              "\n",
              "<style>\n",
              "  .colab-df-quickchart {\n",
              "      --bg-color: #E8F0FE;\n",
              "      --fill-color: #1967D2;\n",
              "      --hover-bg-color: #E2EBFA;\n",
              "      --hover-fill-color: #174EA6;\n",
              "      --disabled-fill-color: #AAA;\n",
              "      --disabled-bg-color: #DDD;\n",
              "  }\n",
              "\n",
              "  [theme=dark] .colab-df-quickchart {\n",
              "      --bg-color: #3B4455;\n",
              "      --fill-color: #D2E3FC;\n",
              "      --hover-bg-color: #434B5C;\n",
              "      --hover-fill-color: #FFFFFF;\n",
              "      --disabled-bg-color: #3B4455;\n",
              "      --disabled-fill-color: #666;\n",
              "  }\n",
              "\n",
              "  .colab-df-quickchart {\n",
              "    background-color: var(--bg-color);\n",
              "    border: none;\n",
              "    border-radius: 50%;\n",
              "    cursor: pointer;\n",
              "    display: none;\n",
              "    fill: var(--fill-color);\n",
              "    height: 32px;\n",
              "    padding: 0;\n",
              "    width: 32px;\n",
              "  }\n",
              "\n",
              "  .colab-df-quickchart:hover {\n",
              "    background-color: var(--hover-bg-color);\n",
              "    box-shadow: 0 1px 2px rgba(60, 64, 67, 0.3), 0 1px 3px 1px rgba(60, 64, 67, 0.15);\n",
              "    fill: var(--button-hover-fill-color);\n",
              "  }\n",
              "\n",
              "  .colab-df-quickchart-complete:disabled,\n",
              "  .colab-df-quickchart-complete:disabled:hover {\n",
              "    background-color: var(--disabled-bg-color);\n",
              "    fill: var(--disabled-fill-color);\n",
              "    box-shadow: none;\n",
              "  }\n",
              "\n",
              "  .colab-df-spinner {\n",
              "    border: 2px solid var(--fill-color);\n",
              "    border-color: transparent;\n",
              "    border-bottom-color: var(--fill-color);\n",
              "    animation:\n",
              "      spin 1s steps(1) infinite;\n",
              "  }\n",
              "\n",
              "  @keyframes spin {\n",
              "    0% {\n",
              "      border-color: transparent;\n",
              "      border-bottom-color: var(--fill-color);\n",
              "      border-left-color: var(--fill-color);\n",
              "    }\n",
              "    20% {\n",
              "      border-color: transparent;\n",
              "      border-left-color: var(--fill-color);\n",
              "      border-top-color: var(--fill-color);\n",
              "    }\n",
              "    30% {\n",
              "      border-color: transparent;\n",
              "      border-left-color: var(--fill-color);\n",
              "      border-top-color: var(--fill-color);\n",
              "      border-right-color: var(--fill-color);\n",
              "    }\n",
              "    40% {\n",
              "      border-color: transparent;\n",
              "      border-right-color: var(--fill-color);\n",
              "      border-top-color: var(--fill-color);\n",
              "    }\n",
              "    60% {\n",
              "      border-color: transparent;\n",
              "      border-right-color: var(--fill-color);\n",
              "    }\n",
              "    80% {\n",
              "      border-color: transparent;\n",
              "      border-right-color: var(--fill-color);\n",
              "      border-bottom-color: var(--fill-color);\n",
              "    }\n",
              "    90% {\n",
              "      border-color: transparent;\n",
              "      border-bottom-color: var(--fill-color);\n",
              "    }\n",
              "  }\n",
              "</style>\n",
              "\n",
              "      <script>\n",
              "        async function quickchart(key) {\n",
              "          const quickchartButtonEl =\n",
              "            document.querySelector('#' + key + ' button');\n",
              "          quickchartButtonEl.disabled = true;  // To prevent multiple clicks.\n",
              "          quickchartButtonEl.classList.add('colab-df-spinner');\n",
              "          try {\n",
              "            const charts = await google.colab.kernel.invokeFunction(\n",
              "                'suggestCharts', [key], {});\n",
              "          } catch (error) {\n",
              "            console.error('Error during call to suggestCharts:', error);\n",
              "          }\n",
              "          quickchartButtonEl.classList.remove('colab-df-spinner');\n",
              "          quickchartButtonEl.classList.add('colab-df-quickchart-complete');\n",
              "        }\n",
              "        (() => {\n",
              "          let quickchartButtonEl =\n",
              "            document.querySelector('#df-a66ac0dd-d171-4640-aa7f-29753d0aec1a button');\n",
              "          quickchartButtonEl.style.display =\n",
              "            google.colab.kernel.accessAllowed ? 'block' : 'none';\n",
              "        })();\n",
              "      </script>\n",
              "    </div>\n",
              "\n",
              "    </div>\n",
              "  </div>\n"
            ],
            "application/vnd.google.colaboratory.intrinsic+json": {
              "type": "dataframe",
              "summary": "{\n  \"name\": \"show_recommendations(sample_user)\",\n  \"rows\": 10,\n  \"fields\": [\n    {\n      \"column\": \"title\",\n      \"properties\": {\n        \"dtype\": \"string\",\n        \"num_unique_values\": 10,\n        \"samples\": [\n          \"Usual Suspects, The (1995)\",\n          \"World of Apu, The (Apur Sansar) (1959)\",\n          \"Double Indemnity (1944)\"\n        ],\n        \"semantic_type\": \"\",\n        \"description\": \"\"\n      }\n    },\n    {\n      \"column\": \"genres\",\n      \"properties\": {\n        \"dtype\": \"string\",\n        \"num_unique_values\": 6,\n        \"samples\": [\n          \"Crime|Drama\",\n          \"Drama\",\n          \"Crime|Mystery|Thriller\"\n        ],\n        \"semantic_type\": \"\",\n        \"description\": \"\"\n      }\n    },\n    {\n      \"column\": \"predicted_rating\",\n      \"properties\": {\n        \"dtype\": \"float32\",\n        \"num_unique_values\": 10,\n        \"samples\": [\n          4.024943828582764,\n          4.102693557739258,\n          4.040033340454102\n        ],\n        \"semantic_type\": \"\",\n        \"description\": \"\"\n      }\n    }\n  ]\n}"
            }
          },
          "metadata": {}
        }
      ]
    },
    {
      "cell_type": "markdown",
      "source": [
        "**Insight:**\n",
        "- Semua film yang direkomendasikan memiliki prediksi rating di atas 4.0 (skala maksimal 5.0) yang menunjukkan bahwa model yakin user akan sangat menyukai film-film ini.\n",
        "- Rentang prediksi rating cukup ketat (4.02–4.15) yang artinya model kesulitan menentukan prioritas teratas karena semua rekomendasi dianggap sangat relevan.\n",
        "- Drama mendominasi (8/10 film) dengan kombinasi genre seperti Crime (The Godfather, The Shawshank Redemption), Romance (Children of Paradise), atau Film-Noir (Double Indemnity). Ada juga film non-Drama seperti dokumenter (Cosmos) dan thriller (The Usual Suspects)."
      ],
      "metadata": {
        "id": "uYI3J30NLwKV"
      }
    }
  ]
}